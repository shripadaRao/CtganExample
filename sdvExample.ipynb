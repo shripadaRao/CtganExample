{
  "metadata": {
    "kernelspec": {
      "language": "python",
      "display_name": "Python 3",
      "name": "python3"
    },
    "language_info": {
      "name": "python",
      "version": "3.7.12",
      "mimetype": "text/x-python",
      "codemirror_mode": {
        "name": "ipython",
        "version": 3
      },
      "pygments_lexer": "ipython3",
      "nbconvert_exporter": "python",
      "file_extension": ".py"
    },
    "colab": {
      "name": "sdvExample.ipynb",
      "provenance": []
    },
    "accelerator": "GPU"
  },
  "nbformat_minor": 0,
  "nbformat": 4,
  "cells": [
    {
      "cell_type": "code",
      "source": [
        "# This Python 3 environment comes with many helpful analytics libraries installed\n",
        "# It is defined by the kaggle/python Docker image: https://github.com/kaggle/docker-python\n",
        "# For example, here's several helpful packages to load\n",
        "\n",
        "#import numpy as np # linear algebra\n",
        "#import pandas as pd # data processing, CSV file I/O (e.g. pd.read_csv)\n",
        "\n",
        "# Input data files are available in the read-only \"../input/\" directory\n",
        "# For example, running this (by clicking run or pressing Shift+Enter) will list all files under the input directory\n",
        "\n",
        "#import os\n",
        "#for dirname, _, filenames in os.walk('/kaggle/input'):\n",
        "#    for filename in filenames:\n",
        " #       print(os.path.join(dirname, filename))\n",
        "\n",
        "# You can write up to 20GB to the current directory (/kaggle/working/) that gets preserved as output when you create a version using \"Save & Run All\" \n",
        "# You can also write temporary files to /kaggle/temp/, but they won't be saved outside of the current session"
      ],
      "metadata": {
        "_uuid": "8f2839f25d086af736a60e9eeb907d3b93b6e0e5",
        "_cell_guid": "b1076dfc-b9ad-4769-8c92-a6c4dae69d19",
        "execution": {
          "iopub.status.busy": "2022-06-12T05:15:49.019965Z",
          "iopub.execute_input": "2022-06-12T05:15:49.020495Z",
          "iopub.status.idle": "2022-06-12T05:15:49.061103Z",
          "shell.execute_reply.started": "2022-06-12T05:15:49.020392Z",
          "shell.execute_reply": "2022-06-12T05:15:49.060337Z"
        },
        "trusted": true,
        "id": "DERjQYqtX5LM"
      },
      "execution_count": 43,
      "outputs": []
    },
    {
      "cell_type": "code",
      "source": [
        "from google.colab import drive\n",
        "drive.mount('/content/drive')"
      ],
      "metadata": {
        "colab": {
          "base_uri": "https://localhost:8080/"
        },
        "id": "MqQNHVUeYrv5",
        "outputId": "b35aa9f4-4941-4165-931d-82456d0691d9"
      },
      "execution_count": 44,
      "outputs": [
        {
          "output_type": "stream",
          "name": "stdout",
          "text": [
            "Drive already mounted at /content/drive; to attempt to forcibly remount, call drive.mount(\"/content/drive\", force_remount=True).\n"
          ]
        }
      ]
    },
    {
      "cell_type": "code",
      "source": [
        "import pandas as pd\n",
        "read_csv = pd.read_csv(\"/content/drive/MyDrive/Datasets/student_data.csv\")\n",
        "read_csv.head()"
      ],
      "metadata": {
        "execution": {
          "iopub.status.busy": "2022-06-12T05:15:49.064413Z",
          "iopub.execute_input": "2022-06-12T05:15:49.065287Z",
          "iopub.status.idle": "2022-06-12T05:15:49.124996Z",
          "shell.execute_reply.started": "2022-06-12T05:15:49.065235Z",
          "shell.execute_reply": "2022-06-12T05:15:49.124060Z"
        },
        "trusted": true,
        "colab": {
          "base_uri": "https://localhost:8080/",
          "height": 236
        },
        "id": "s4DJykeUX5LO",
        "outputId": "8b70ab69-959b-40c7-efca-8c2e52683307"
      },
      "execution_count": 45,
      "outputs": [
        {
          "output_type": "execute_result",
          "data": {
            "text/plain": [
              "  school sex  age address famsize Pstatus  Medu  Fedu     Mjob      Fjob  ...  \\\n",
              "0     GP   F   18       U     GT3       A     4     4  at_home   teacher  ...   \n",
              "1     GP   F   17       U     GT3       T     1     1  at_home     other  ...   \n",
              "2     GP   F   15       U     LE3       T     1     1  at_home     other  ...   \n",
              "3     GP   F   15       U     GT3       T     4     2   health  services  ...   \n",
              "4     GP   F   16       U     GT3       T     3     3    other     other  ...   \n",
              "\n",
              "  famrel freetime  goout  Dalc  Walc health absences  G1  G2  G3  \n",
              "0      4        3      4     1     1      3        6   5   6   6  \n",
              "1      5        3      3     1     1      3        4   5   5   6  \n",
              "2      4        3      2     2     3      3       10   7   8  10  \n",
              "3      3        2      2     1     1      5        2  15  14  15  \n",
              "4      4        3      2     1     2      5        4   6  10  10  \n",
              "\n",
              "[5 rows x 33 columns]"
            ],
            "text/html": [
              "\n",
              "  <div id=\"df-1e1381a9-7c41-4494-ada5-02b70f28bee7\">\n",
              "    <div class=\"colab-df-container\">\n",
              "      <div>\n",
              "<style scoped>\n",
              "    .dataframe tbody tr th:only-of-type {\n",
              "        vertical-align: middle;\n",
              "    }\n",
              "\n",
              "    .dataframe tbody tr th {\n",
              "        vertical-align: top;\n",
              "    }\n",
              "\n",
              "    .dataframe thead th {\n",
              "        text-align: right;\n",
              "    }\n",
              "</style>\n",
              "<table border=\"1\" class=\"dataframe\">\n",
              "  <thead>\n",
              "    <tr style=\"text-align: right;\">\n",
              "      <th></th>\n",
              "      <th>school</th>\n",
              "      <th>sex</th>\n",
              "      <th>age</th>\n",
              "      <th>address</th>\n",
              "      <th>famsize</th>\n",
              "      <th>Pstatus</th>\n",
              "      <th>Medu</th>\n",
              "      <th>Fedu</th>\n",
              "      <th>Mjob</th>\n",
              "      <th>Fjob</th>\n",
              "      <th>...</th>\n",
              "      <th>famrel</th>\n",
              "      <th>freetime</th>\n",
              "      <th>goout</th>\n",
              "      <th>Dalc</th>\n",
              "      <th>Walc</th>\n",
              "      <th>health</th>\n",
              "      <th>absences</th>\n",
              "      <th>G1</th>\n",
              "      <th>G2</th>\n",
              "      <th>G3</th>\n",
              "    </tr>\n",
              "  </thead>\n",
              "  <tbody>\n",
              "    <tr>\n",
              "      <th>0</th>\n",
              "      <td>GP</td>\n",
              "      <td>F</td>\n",
              "      <td>18</td>\n",
              "      <td>U</td>\n",
              "      <td>GT3</td>\n",
              "      <td>A</td>\n",
              "      <td>4</td>\n",
              "      <td>4</td>\n",
              "      <td>at_home</td>\n",
              "      <td>teacher</td>\n",
              "      <td>...</td>\n",
              "      <td>4</td>\n",
              "      <td>3</td>\n",
              "      <td>4</td>\n",
              "      <td>1</td>\n",
              "      <td>1</td>\n",
              "      <td>3</td>\n",
              "      <td>6</td>\n",
              "      <td>5</td>\n",
              "      <td>6</td>\n",
              "      <td>6</td>\n",
              "    </tr>\n",
              "    <tr>\n",
              "      <th>1</th>\n",
              "      <td>GP</td>\n",
              "      <td>F</td>\n",
              "      <td>17</td>\n",
              "      <td>U</td>\n",
              "      <td>GT3</td>\n",
              "      <td>T</td>\n",
              "      <td>1</td>\n",
              "      <td>1</td>\n",
              "      <td>at_home</td>\n",
              "      <td>other</td>\n",
              "      <td>...</td>\n",
              "      <td>5</td>\n",
              "      <td>3</td>\n",
              "      <td>3</td>\n",
              "      <td>1</td>\n",
              "      <td>1</td>\n",
              "      <td>3</td>\n",
              "      <td>4</td>\n",
              "      <td>5</td>\n",
              "      <td>5</td>\n",
              "      <td>6</td>\n",
              "    </tr>\n",
              "    <tr>\n",
              "      <th>2</th>\n",
              "      <td>GP</td>\n",
              "      <td>F</td>\n",
              "      <td>15</td>\n",
              "      <td>U</td>\n",
              "      <td>LE3</td>\n",
              "      <td>T</td>\n",
              "      <td>1</td>\n",
              "      <td>1</td>\n",
              "      <td>at_home</td>\n",
              "      <td>other</td>\n",
              "      <td>...</td>\n",
              "      <td>4</td>\n",
              "      <td>3</td>\n",
              "      <td>2</td>\n",
              "      <td>2</td>\n",
              "      <td>3</td>\n",
              "      <td>3</td>\n",
              "      <td>10</td>\n",
              "      <td>7</td>\n",
              "      <td>8</td>\n",
              "      <td>10</td>\n",
              "    </tr>\n",
              "    <tr>\n",
              "      <th>3</th>\n",
              "      <td>GP</td>\n",
              "      <td>F</td>\n",
              "      <td>15</td>\n",
              "      <td>U</td>\n",
              "      <td>GT3</td>\n",
              "      <td>T</td>\n",
              "      <td>4</td>\n",
              "      <td>2</td>\n",
              "      <td>health</td>\n",
              "      <td>services</td>\n",
              "      <td>...</td>\n",
              "      <td>3</td>\n",
              "      <td>2</td>\n",
              "      <td>2</td>\n",
              "      <td>1</td>\n",
              "      <td>1</td>\n",
              "      <td>5</td>\n",
              "      <td>2</td>\n",
              "      <td>15</td>\n",
              "      <td>14</td>\n",
              "      <td>15</td>\n",
              "    </tr>\n",
              "    <tr>\n",
              "      <th>4</th>\n",
              "      <td>GP</td>\n",
              "      <td>F</td>\n",
              "      <td>16</td>\n",
              "      <td>U</td>\n",
              "      <td>GT3</td>\n",
              "      <td>T</td>\n",
              "      <td>3</td>\n",
              "      <td>3</td>\n",
              "      <td>other</td>\n",
              "      <td>other</td>\n",
              "      <td>...</td>\n",
              "      <td>4</td>\n",
              "      <td>3</td>\n",
              "      <td>2</td>\n",
              "      <td>1</td>\n",
              "      <td>2</td>\n",
              "      <td>5</td>\n",
              "      <td>4</td>\n",
              "      <td>6</td>\n",
              "      <td>10</td>\n",
              "      <td>10</td>\n",
              "    </tr>\n",
              "  </tbody>\n",
              "</table>\n",
              "<p>5 rows × 33 columns</p>\n",
              "</div>\n",
              "      <button class=\"colab-df-convert\" onclick=\"convertToInteractive('df-1e1381a9-7c41-4494-ada5-02b70f28bee7')\"\n",
              "              title=\"Convert this dataframe to an interactive table.\"\n",
              "              style=\"display:none;\">\n",
              "        \n",
              "  <svg xmlns=\"http://www.w3.org/2000/svg\" height=\"24px\"viewBox=\"0 0 24 24\"\n",
              "       width=\"24px\">\n",
              "    <path d=\"M0 0h24v24H0V0z\" fill=\"none\"/>\n",
              "    <path d=\"M18.56 5.44l.94 2.06.94-2.06 2.06-.94-2.06-.94-.94-2.06-.94 2.06-2.06.94zm-11 1L8.5 8.5l.94-2.06 2.06-.94-2.06-.94L8.5 2.5l-.94 2.06-2.06.94zm10 10l.94 2.06.94-2.06 2.06-.94-2.06-.94-.94-2.06-.94 2.06-2.06.94z\"/><path d=\"M17.41 7.96l-1.37-1.37c-.4-.4-.92-.59-1.43-.59-.52 0-1.04.2-1.43.59L10.3 9.45l-7.72 7.72c-.78.78-.78 2.05 0 2.83L4 21.41c.39.39.9.59 1.41.59.51 0 1.02-.2 1.41-.59l7.78-7.78 2.81-2.81c.8-.78.8-2.07 0-2.86zM5.41 20L4 18.59l7.72-7.72 1.47 1.35L5.41 20z\"/>\n",
              "  </svg>\n",
              "      </button>\n",
              "      \n",
              "  <style>\n",
              "    .colab-df-container {\n",
              "      display:flex;\n",
              "      flex-wrap:wrap;\n",
              "      gap: 12px;\n",
              "    }\n",
              "\n",
              "    .colab-df-convert {\n",
              "      background-color: #E8F0FE;\n",
              "      border: none;\n",
              "      border-radius: 50%;\n",
              "      cursor: pointer;\n",
              "      display: none;\n",
              "      fill: #1967D2;\n",
              "      height: 32px;\n",
              "      padding: 0 0 0 0;\n",
              "      width: 32px;\n",
              "    }\n",
              "\n",
              "    .colab-df-convert:hover {\n",
              "      background-color: #E2EBFA;\n",
              "      box-shadow: 0px 1px 2px rgba(60, 64, 67, 0.3), 0px 1px 3px 1px rgba(60, 64, 67, 0.15);\n",
              "      fill: #174EA6;\n",
              "    }\n",
              "\n",
              "    [theme=dark] .colab-df-convert {\n",
              "      background-color: #3B4455;\n",
              "      fill: #D2E3FC;\n",
              "    }\n",
              "\n",
              "    [theme=dark] .colab-df-convert:hover {\n",
              "      background-color: #434B5C;\n",
              "      box-shadow: 0px 1px 3px 1px rgba(0, 0, 0, 0.15);\n",
              "      filter: drop-shadow(0px 1px 2px rgba(0, 0, 0, 0.3));\n",
              "      fill: #FFFFFF;\n",
              "    }\n",
              "  </style>\n",
              "\n",
              "      <script>\n",
              "        const buttonEl =\n",
              "          document.querySelector('#df-1e1381a9-7c41-4494-ada5-02b70f28bee7 button.colab-df-convert');\n",
              "        buttonEl.style.display =\n",
              "          google.colab.kernel.accessAllowed ? 'block' : 'none';\n",
              "\n",
              "        async function convertToInteractive(key) {\n",
              "          const element = document.querySelector('#df-1e1381a9-7c41-4494-ada5-02b70f28bee7');\n",
              "          const dataTable =\n",
              "            await google.colab.kernel.invokeFunction('convertToInteractive',\n",
              "                                                     [key], {});\n",
              "          if (!dataTable) return;\n",
              "\n",
              "          const docLinkHtml = 'Like what you see? Visit the ' +\n",
              "            '<a target=\"_blank\" href=https://colab.research.google.com/notebooks/data_table.ipynb>data table notebook</a>'\n",
              "            + ' to learn more about interactive tables.';\n",
              "          element.innerHTML = '';\n",
              "          dataTable['output_type'] = 'display_data';\n",
              "          await google.colab.output.renderOutput(dataTable, element);\n",
              "          const docLink = document.createElement('div');\n",
              "          docLink.innerHTML = docLinkHtml;\n",
              "          element.appendChild(docLink);\n",
              "        }\n",
              "      </script>\n",
              "    </div>\n",
              "  </div>\n",
              "  "
            ]
          },
          "metadata": {},
          "execution_count": 45
        }
      ]
    },
    {
      "cell_type": "code",
      "source": [
        "dataset = read_csv\n",
        "dataset.shape"
      ],
      "metadata": {
        "execution": {
          "iopub.status.busy": "2022-06-12T05:15:49.126503Z",
          "iopub.execute_input": "2022-06-12T05:15:49.127123Z",
          "iopub.status.idle": "2022-06-12T05:15:49.133604Z",
          "shell.execute_reply.started": "2022-06-12T05:15:49.127081Z",
          "shell.execute_reply": "2022-06-12T05:15:49.132753Z"
        },
        "trusted": true,
        "colab": {
          "base_uri": "https://localhost:8080/"
        },
        "id": "WPhB10lnX5LP",
        "outputId": "d9ef015a-8095-44d4-9b51-57f4d9dd5c75"
      },
      "execution_count": 46,
      "outputs": [
        {
          "output_type": "execute_result",
          "data": {
            "text/plain": [
              "(395, 33)"
            ]
          },
          "metadata": {},
          "execution_count": 46
        }
      ]
    },
    {
      "cell_type": "code",
      "source": [
        "dataset.describe()"
      ],
      "metadata": {
        "execution": {
          "iopub.status.busy": "2022-06-12T05:15:49.135804Z",
          "iopub.execute_input": "2022-06-12T05:15:49.136429Z",
          "iopub.status.idle": "2022-06-12T05:15:49.211060Z",
          "shell.execute_reply.started": "2022-06-12T05:15:49.136386Z",
          "shell.execute_reply": "2022-06-12T05:15:49.210107Z"
        },
        "trusted": true,
        "colab": {
          "base_uri": "https://localhost:8080/",
          "height": 300
        },
        "id": "oa8ROjcbX5LQ",
        "outputId": "2dc798d9-3035-400e-b18c-698c2291d637"
      },
      "execution_count": 47,
      "outputs": [
        {
          "output_type": "execute_result",
          "data": {
            "text/plain": [
              "              age        Medu        Fedu  traveltime   studytime    failures  \\\n",
              "count  395.000000  395.000000  395.000000  395.000000  395.000000  395.000000   \n",
              "mean    16.696203    2.749367    2.521519    1.448101    2.035443    0.334177   \n",
              "std      1.276043    1.094735    1.088201    0.697505    0.839240    0.743651   \n",
              "min     15.000000    0.000000    0.000000    1.000000    1.000000    0.000000   \n",
              "25%     16.000000    2.000000    2.000000    1.000000    1.000000    0.000000   \n",
              "50%     17.000000    3.000000    2.000000    1.000000    2.000000    0.000000   \n",
              "75%     18.000000    4.000000    3.000000    2.000000    2.000000    0.000000   \n",
              "max     22.000000    4.000000    4.000000    4.000000    4.000000    3.000000   \n",
              "\n",
              "           famrel    freetime       goout        Dalc        Walc      health  \\\n",
              "count  395.000000  395.000000  395.000000  395.000000  395.000000  395.000000   \n",
              "mean     3.944304    3.235443    3.108861    1.481013    2.291139    3.554430   \n",
              "std      0.896659    0.998862    1.113278    0.890741    1.287897    1.390303   \n",
              "min      1.000000    1.000000    1.000000    1.000000    1.000000    1.000000   \n",
              "25%      4.000000    3.000000    2.000000    1.000000    1.000000    3.000000   \n",
              "50%      4.000000    3.000000    3.000000    1.000000    2.000000    4.000000   \n",
              "75%      5.000000    4.000000    4.000000    2.000000    3.000000    5.000000   \n",
              "max      5.000000    5.000000    5.000000    5.000000    5.000000    5.000000   \n",
              "\n",
              "         absences          G1          G2          G3  \n",
              "count  395.000000  395.000000  395.000000  395.000000  \n",
              "mean     5.708861   10.908861   10.713924   10.415190  \n",
              "std      8.003096    3.319195    3.761505    4.581443  \n",
              "min      0.000000    3.000000    0.000000    0.000000  \n",
              "25%      0.000000    8.000000    9.000000    8.000000  \n",
              "50%      4.000000   11.000000   11.000000   11.000000  \n",
              "75%      8.000000   13.000000   13.000000   14.000000  \n",
              "max     75.000000   19.000000   19.000000   20.000000  "
            ],
            "text/html": [
              "\n",
              "  <div id=\"df-23818eb6-478d-4d66-a758-16ab098d44f0\">\n",
              "    <div class=\"colab-df-container\">\n",
              "      <div>\n",
              "<style scoped>\n",
              "    .dataframe tbody tr th:only-of-type {\n",
              "        vertical-align: middle;\n",
              "    }\n",
              "\n",
              "    .dataframe tbody tr th {\n",
              "        vertical-align: top;\n",
              "    }\n",
              "\n",
              "    .dataframe thead th {\n",
              "        text-align: right;\n",
              "    }\n",
              "</style>\n",
              "<table border=\"1\" class=\"dataframe\">\n",
              "  <thead>\n",
              "    <tr style=\"text-align: right;\">\n",
              "      <th></th>\n",
              "      <th>age</th>\n",
              "      <th>Medu</th>\n",
              "      <th>Fedu</th>\n",
              "      <th>traveltime</th>\n",
              "      <th>studytime</th>\n",
              "      <th>failures</th>\n",
              "      <th>famrel</th>\n",
              "      <th>freetime</th>\n",
              "      <th>goout</th>\n",
              "      <th>Dalc</th>\n",
              "      <th>Walc</th>\n",
              "      <th>health</th>\n",
              "      <th>absences</th>\n",
              "      <th>G1</th>\n",
              "      <th>G2</th>\n",
              "      <th>G3</th>\n",
              "    </tr>\n",
              "  </thead>\n",
              "  <tbody>\n",
              "    <tr>\n",
              "      <th>count</th>\n",
              "      <td>395.000000</td>\n",
              "      <td>395.000000</td>\n",
              "      <td>395.000000</td>\n",
              "      <td>395.000000</td>\n",
              "      <td>395.000000</td>\n",
              "      <td>395.000000</td>\n",
              "      <td>395.000000</td>\n",
              "      <td>395.000000</td>\n",
              "      <td>395.000000</td>\n",
              "      <td>395.000000</td>\n",
              "      <td>395.000000</td>\n",
              "      <td>395.000000</td>\n",
              "      <td>395.000000</td>\n",
              "      <td>395.000000</td>\n",
              "      <td>395.000000</td>\n",
              "      <td>395.000000</td>\n",
              "    </tr>\n",
              "    <tr>\n",
              "      <th>mean</th>\n",
              "      <td>16.696203</td>\n",
              "      <td>2.749367</td>\n",
              "      <td>2.521519</td>\n",
              "      <td>1.448101</td>\n",
              "      <td>2.035443</td>\n",
              "      <td>0.334177</td>\n",
              "      <td>3.944304</td>\n",
              "      <td>3.235443</td>\n",
              "      <td>3.108861</td>\n",
              "      <td>1.481013</td>\n",
              "      <td>2.291139</td>\n",
              "      <td>3.554430</td>\n",
              "      <td>5.708861</td>\n",
              "      <td>10.908861</td>\n",
              "      <td>10.713924</td>\n",
              "      <td>10.415190</td>\n",
              "    </tr>\n",
              "    <tr>\n",
              "      <th>std</th>\n",
              "      <td>1.276043</td>\n",
              "      <td>1.094735</td>\n",
              "      <td>1.088201</td>\n",
              "      <td>0.697505</td>\n",
              "      <td>0.839240</td>\n",
              "      <td>0.743651</td>\n",
              "      <td>0.896659</td>\n",
              "      <td>0.998862</td>\n",
              "      <td>1.113278</td>\n",
              "      <td>0.890741</td>\n",
              "      <td>1.287897</td>\n",
              "      <td>1.390303</td>\n",
              "      <td>8.003096</td>\n",
              "      <td>3.319195</td>\n",
              "      <td>3.761505</td>\n",
              "      <td>4.581443</td>\n",
              "    </tr>\n",
              "    <tr>\n",
              "      <th>min</th>\n",
              "      <td>15.000000</td>\n",
              "      <td>0.000000</td>\n",
              "      <td>0.000000</td>\n",
              "      <td>1.000000</td>\n",
              "      <td>1.000000</td>\n",
              "      <td>0.000000</td>\n",
              "      <td>1.000000</td>\n",
              "      <td>1.000000</td>\n",
              "      <td>1.000000</td>\n",
              "      <td>1.000000</td>\n",
              "      <td>1.000000</td>\n",
              "      <td>1.000000</td>\n",
              "      <td>0.000000</td>\n",
              "      <td>3.000000</td>\n",
              "      <td>0.000000</td>\n",
              "      <td>0.000000</td>\n",
              "    </tr>\n",
              "    <tr>\n",
              "      <th>25%</th>\n",
              "      <td>16.000000</td>\n",
              "      <td>2.000000</td>\n",
              "      <td>2.000000</td>\n",
              "      <td>1.000000</td>\n",
              "      <td>1.000000</td>\n",
              "      <td>0.000000</td>\n",
              "      <td>4.000000</td>\n",
              "      <td>3.000000</td>\n",
              "      <td>2.000000</td>\n",
              "      <td>1.000000</td>\n",
              "      <td>1.000000</td>\n",
              "      <td>3.000000</td>\n",
              "      <td>0.000000</td>\n",
              "      <td>8.000000</td>\n",
              "      <td>9.000000</td>\n",
              "      <td>8.000000</td>\n",
              "    </tr>\n",
              "    <tr>\n",
              "      <th>50%</th>\n",
              "      <td>17.000000</td>\n",
              "      <td>3.000000</td>\n",
              "      <td>2.000000</td>\n",
              "      <td>1.000000</td>\n",
              "      <td>2.000000</td>\n",
              "      <td>0.000000</td>\n",
              "      <td>4.000000</td>\n",
              "      <td>3.000000</td>\n",
              "      <td>3.000000</td>\n",
              "      <td>1.000000</td>\n",
              "      <td>2.000000</td>\n",
              "      <td>4.000000</td>\n",
              "      <td>4.000000</td>\n",
              "      <td>11.000000</td>\n",
              "      <td>11.000000</td>\n",
              "      <td>11.000000</td>\n",
              "    </tr>\n",
              "    <tr>\n",
              "      <th>75%</th>\n",
              "      <td>18.000000</td>\n",
              "      <td>4.000000</td>\n",
              "      <td>3.000000</td>\n",
              "      <td>2.000000</td>\n",
              "      <td>2.000000</td>\n",
              "      <td>0.000000</td>\n",
              "      <td>5.000000</td>\n",
              "      <td>4.000000</td>\n",
              "      <td>4.000000</td>\n",
              "      <td>2.000000</td>\n",
              "      <td>3.000000</td>\n",
              "      <td>5.000000</td>\n",
              "      <td>8.000000</td>\n",
              "      <td>13.000000</td>\n",
              "      <td>13.000000</td>\n",
              "      <td>14.000000</td>\n",
              "    </tr>\n",
              "    <tr>\n",
              "      <th>max</th>\n",
              "      <td>22.000000</td>\n",
              "      <td>4.000000</td>\n",
              "      <td>4.000000</td>\n",
              "      <td>4.000000</td>\n",
              "      <td>4.000000</td>\n",
              "      <td>3.000000</td>\n",
              "      <td>5.000000</td>\n",
              "      <td>5.000000</td>\n",
              "      <td>5.000000</td>\n",
              "      <td>5.000000</td>\n",
              "      <td>5.000000</td>\n",
              "      <td>5.000000</td>\n",
              "      <td>75.000000</td>\n",
              "      <td>19.000000</td>\n",
              "      <td>19.000000</td>\n",
              "      <td>20.000000</td>\n",
              "    </tr>\n",
              "  </tbody>\n",
              "</table>\n",
              "</div>\n",
              "      <button class=\"colab-df-convert\" onclick=\"convertToInteractive('df-23818eb6-478d-4d66-a758-16ab098d44f0')\"\n",
              "              title=\"Convert this dataframe to an interactive table.\"\n",
              "              style=\"display:none;\">\n",
              "        \n",
              "  <svg xmlns=\"http://www.w3.org/2000/svg\" height=\"24px\"viewBox=\"0 0 24 24\"\n",
              "       width=\"24px\">\n",
              "    <path d=\"M0 0h24v24H0V0z\" fill=\"none\"/>\n",
              "    <path d=\"M18.56 5.44l.94 2.06.94-2.06 2.06-.94-2.06-.94-.94-2.06-.94 2.06-2.06.94zm-11 1L8.5 8.5l.94-2.06 2.06-.94-2.06-.94L8.5 2.5l-.94 2.06-2.06.94zm10 10l.94 2.06.94-2.06 2.06-.94-2.06-.94-.94-2.06-.94 2.06-2.06.94z\"/><path d=\"M17.41 7.96l-1.37-1.37c-.4-.4-.92-.59-1.43-.59-.52 0-1.04.2-1.43.59L10.3 9.45l-7.72 7.72c-.78.78-.78 2.05 0 2.83L4 21.41c.39.39.9.59 1.41.59.51 0 1.02-.2 1.41-.59l7.78-7.78 2.81-2.81c.8-.78.8-2.07 0-2.86zM5.41 20L4 18.59l7.72-7.72 1.47 1.35L5.41 20z\"/>\n",
              "  </svg>\n",
              "      </button>\n",
              "      \n",
              "  <style>\n",
              "    .colab-df-container {\n",
              "      display:flex;\n",
              "      flex-wrap:wrap;\n",
              "      gap: 12px;\n",
              "    }\n",
              "\n",
              "    .colab-df-convert {\n",
              "      background-color: #E8F0FE;\n",
              "      border: none;\n",
              "      border-radius: 50%;\n",
              "      cursor: pointer;\n",
              "      display: none;\n",
              "      fill: #1967D2;\n",
              "      height: 32px;\n",
              "      padding: 0 0 0 0;\n",
              "      width: 32px;\n",
              "    }\n",
              "\n",
              "    .colab-df-convert:hover {\n",
              "      background-color: #E2EBFA;\n",
              "      box-shadow: 0px 1px 2px rgba(60, 64, 67, 0.3), 0px 1px 3px 1px rgba(60, 64, 67, 0.15);\n",
              "      fill: #174EA6;\n",
              "    }\n",
              "\n",
              "    [theme=dark] .colab-df-convert {\n",
              "      background-color: #3B4455;\n",
              "      fill: #D2E3FC;\n",
              "    }\n",
              "\n",
              "    [theme=dark] .colab-df-convert:hover {\n",
              "      background-color: #434B5C;\n",
              "      box-shadow: 0px 1px 3px 1px rgba(0, 0, 0, 0.15);\n",
              "      filter: drop-shadow(0px 1px 2px rgba(0, 0, 0, 0.3));\n",
              "      fill: #FFFFFF;\n",
              "    }\n",
              "  </style>\n",
              "\n",
              "      <script>\n",
              "        const buttonEl =\n",
              "          document.querySelector('#df-23818eb6-478d-4d66-a758-16ab098d44f0 button.colab-df-convert');\n",
              "        buttonEl.style.display =\n",
              "          google.colab.kernel.accessAllowed ? 'block' : 'none';\n",
              "\n",
              "        async function convertToInteractive(key) {\n",
              "          const element = document.querySelector('#df-23818eb6-478d-4d66-a758-16ab098d44f0');\n",
              "          const dataTable =\n",
              "            await google.colab.kernel.invokeFunction('convertToInteractive',\n",
              "                                                     [key], {});\n",
              "          if (!dataTable) return;\n",
              "\n",
              "          const docLinkHtml = 'Like what you see? Visit the ' +\n",
              "            '<a target=\"_blank\" href=https://colab.research.google.com/notebooks/data_table.ipynb>data table notebook</a>'\n",
              "            + ' to learn more about interactive tables.';\n",
              "          element.innerHTML = '';\n",
              "          dataTable['output_type'] = 'display_data';\n",
              "          await google.colab.output.renderOutput(dataTable, element);\n",
              "          const docLink = document.createElement('div');\n",
              "          docLink.innerHTML = docLinkHtml;\n",
              "          element.appendChild(docLink);\n",
              "        }\n",
              "      </script>\n",
              "    </div>\n",
              "  </div>\n",
              "  "
            ]
          },
          "metadata": {},
          "execution_count": 47
        }
      ]
    },
    {
      "cell_type": "markdown",
      "source": [
        "# Hot-Encoding data"
      ],
      "metadata": {
        "id": "nw9THYlbX5LQ"
      }
    },
    {
      "cell_type": "code",
      "source": [
        "dataset.columns"
      ],
      "metadata": {
        "execution": {
          "iopub.status.busy": "2022-06-12T05:15:49.212579Z",
          "iopub.execute_input": "2022-06-12T05:15:49.213191Z",
          "iopub.status.idle": "2022-06-12T05:15:49.221195Z",
          "shell.execute_reply.started": "2022-06-12T05:15:49.213149Z",
          "shell.execute_reply": "2022-06-12T05:15:49.220374Z"
        },
        "trusted": true,
        "colab": {
          "base_uri": "https://localhost:8080/"
        },
        "id": "vL-bYSPjX5LS",
        "outputId": "de13b46c-05ff-4c75-8a73-9705b51f6d86"
      },
      "execution_count": 48,
      "outputs": [
        {
          "output_type": "execute_result",
          "data": {
            "text/plain": [
              "Index(['school', 'sex', 'age', 'address', 'famsize', 'Pstatus', 'Medu', 'Fedu',\n",
              "       'Mjob', 'Fjob', 'reason', 'guardian', 'traveltime', 'studytime',\n",
              "       'failures', 'schoolsup', 'famsup', 'paid', 'activities', 'nursery',\n",
              "       'higher', 'internet', 'romantic', 'famrel', 'freetime', 'goout', 'Dalc',\n",
              "       'Walc', 'health', 'absences', 'G1', 'G2', 'G3'],\n",
              "      dtype='object')"
            ]
          },
          "metadata": {},
          "execution_count": 48
        }
      ]
    },
    {
      "cell_type": "code",
      "source": [
        "dataset['sex'].value_counts()\n"
      ],
      "metadata": {
        "execution": {
          "iopub.status.busy": "2022-06-12T05:15:49.222972Z",
          "iopub.execute_input": "2022-06-12T05:15:49.223493Z",
          "iopub.status.idle": "2022-06-12T05:15:49.236407Z",
          "shell.execute_reply.started": "2022-06-12T05:15:49.223443Z",
          "shell.execute_reply": "2022-06-12T05:15:49.235158Z"
        },
        "trusted": true,
        "colab": {
          "base_uri": "https://localhost:8080/"
        },
        "id": "XjLdzmH6X5LT",
        "outputId": "a40c26d5-1084-40f3-b8dc-39f8bc187c89"
      },
      "execution_count": 49,
      "outputs": [
        {
          "output_type": "execute_result",
          "data": {
            "text/plain": [
              "F    208\n",
              "M    187\n",
              "Name: sex, dtype: int64"
            ]
          },
          "metadata": {},
          "execution_count": 49
        }
      ]
    },
    {
      "cell_type": "code",
      "source": [
        "dataset['address'].value_counts()"
      ],
      "metadata": {
        "execution": {
          "iopub.status.busy": "2022-06-12T05:15:49.238717Z",
          "iopub.execute_input": "2022-06-12T05:15:49.239715Z",
          "iopub.status.idle": "2022-06-12T05:15:49.252565Z",
          "shell.execute_reply.started": "2022-06-12T05:15:49.239631Z",
          "shell.execute_reply": "2022-06-12T05:15:49.251601Z"
        },
        "trusted": true,
        "colab": {
          "base_uri": "https://localhost:8080/"
        },
        "id": "f5Pd4uO2X5LT",
        "outputId": "12120c20-7b1a-43ae-c664-40e76de0b1ab"
      },
      "execution_count": 50,
      "outputs": [
        {
          "output_type": "execute_result",
          "data": {
            "text/plain": [
              "U    307\n",
              "R     88\n",
              "Name: address, dtype: int64"
            ]
          },
          "metadata": {},
          "execution_count": 50
        }
      ]
    },
    {
      "cell_type": "code",
      "source": [
        "dataset['Mjob'].value_counts()"
      ],
      "metadata": {
        "execution": {
          "iopub.status.busy": "2022-06-12T05:15:49.254225Z",
          "iopub.execute_input": "2022-06-12T05:15:49.255819Z",
          "iopub.status.idle": "2022-06-12T05:15:49.265345Z",
          "shell.execute_reply.started": "2022-06-12T05:15:49.255767Z",
          "shell.execute_reply": "2022-06-12T05:15:49.264380Z"
        },
        "trusted": true,
        "colab": {
          "base_uri": "https://localhost:8080/"
        },
        "id": "CVmq2Q9HX5LV",
        "outputId": "061a74ae-7788-4e21-ae10-eff77f225a28"
      },
      "execution_count": 51,
      "outputs": [
        {
          "output_type": "execute_result",
          "data": {
            "text/plain": [
              "other       141\n",
              "services    103\n",
              "at_home      59\n",
              "teacher      58\n",
              "health       34\n",
              "Name: Mjob, dtype: int64"
            ]
          },
          "metadata": {},
          "execution_count": 51
        }
      ]
    },
    {
      "cell_type": "code",
      "source": [
        "dataset['Fjob'].value_counts()"
      ],
      "metadata": {
        "execution": {
          "iopub.status.busy": "2022-06-12T05:15:49.274004Z",
          "iopub.execute_input": "2022-06-12T05:15:49.274837Z",
          "iopub.status.idle": "2022-06-12T05:15:49.285571Z",
          "shell.execute_reply.started": "2022-06-12T05:15:49.274787Z",
          "shell.execute_reply": "2022-06-12T05:15:49.284217Z"
        },
        "trusted": true,
        "colab": {
          "base_uri": "https://localhost:8080/"
        },
        "id": "B53M69MRX5LW",
        "outputId": "c0b08fd9-26ba-4931-ee69-4e15a22c8b2d"
      },
      "execution_count": 52,
      "outputs": [
        {
          "output_type": "execute_result",
          "data": {
            "text/plain": [
              "other       217\n",
              "services    111\n",
              "teacher      29\n",
              "at_home      20\n",
              "health       18\n",
              "Name: Fjob, dtype: int64"
            ]
          },
          "metadata": {},
          "execution_count": 52
        }
      ]
    },
    {
      "cell_type": "code",
      "source": [
        "dataset['Pstatus'].value_counts()"
      ],
      "metadata": {
        "execution": {
          "iopub.status.busy": "2022-06-12T05:15:49.288554Z",
          "iopub.execute_input": "2022-06-12T05:15:49.289631Z",
          "iopub.status.idle": "2022-06-12T05:15:49.300976Z",
          "shell.execute_reply.started": "2022-06-12T05:15:49.289544Z",
          "shell.execute_reply": "2022-06-12T05:15:49.299946Z"
        },
        "trusted": true,
        "colab": {
          "base_uri": "https://localhost:8080/"
        },
        "id": "287BpEXpX5LX",
        "outputId": "80c38949-6a9b-4043-f27f-c68011e4c18f"
      },
      "execution_count": 53,
      "outputs": [
        {
          "output_type": "execute_result",
          "data": {
            "text/plain": [
              "T    354\n",
              "A     41\n",
              "Name: Pstatus, dtype: int64"
            ]
          },
          "metadata": {},
          "execution_count": 53
        }
      ]
    },
    {
      "cell_type": "markdown",
      "source": [
        "### dropping \"un-necessary\" columns"
      ],
      "metadata": {
        "id": "ZdrOS4CVX5LY"
      }
    },
    {
      "cell_type": "code",
      "source": [
        "dataset.columns"
      ],
      "metadata": {
        "execution": {
          "iopub.status.busy": "2022-06-12T05:15:49.303128Z",
          "iopub.execute_input": "2022-06-12T05:15:49.303998Z",
          "iopub.status.idle": "2022-06-12T05:15:49.313533Z",
          "shell.execute_reply.started": "2022-06-12T05:15:49.303947Z",
          "shell.execute_reply": "2022-06-12T05:15:49.312729Z"
        },
        "trusted": true,
        "colab": {
          "base_uri": "https://localhost:8080/"
        },
        "id": "-zjxrApEX5LY",
        "outputId": "76a850ba-f1c7-4268-8c8a-ce9edc4fdeb1"
      },
      "execution_count": 54,
      "outputs": [
        {
          "output_type": "execute_result",
          "data": {
            "text/plain": [
              "Index(['school', 'sex', 'age', 'address', 'famsize', 'Pstatus', 'Medu', 'Fedu',\n",
              "       'Mjob', 'Fjob', 'reason', 'guardian', 'traveltime', 'studytime',\n",
              "       'failures', 'schoolsup', 'famsup', 'paid', 'activities', 'nursery',\n",
              "       'higher', 'internet', 'romantic', 'famrel', 'freetime', 'goout', 'Dalc',\n",
              "       'Walc', 'health', 'absences', 'G1', 'G2', 'G3'],\n",
              "      dtype='object')"
            ]
          },
          "metadata": {},
          "execution_count": 54
        }
      ]
    },
    {
      "cell_type": "code",
      "source": [
        "dataset_dropped =  dataset.drop([\"Medu\",\"Fedu\",'reason', 'guardian', 'traveltime','failures', 'schoolsup', 'famsup', 'paid', 'activities', 'nursery',\n",
        "       'higher', 'internet', 'romantic', 'famrel', 'freetime', 'goout', 'Dalc',\n",
        "       'Walc', 'health', 'absences', 'G1', 'G2', 'G3'], axis =1)\n",
        "dataset_dropped\n"
      ],
      "metadata": {
        "execution": {
          "iopub.status.busy": "2022-06-12T05:15:49.315029Z",
          "iopub.execute_input": "2022-06-12T05:15:49.315856Z",
          "iopub.status.idle": "2022-06-12T05:15:49.345478Z",
          "shell.execute_reply.started": "2022-06-12T05:15:49.315820Z",
          "shell.execute_reply": "2022-06-12T05:15:49.344674Z"
        },
        "trusted": true,
        "colab": {
          "base_uri": "https://localhost:8080/",
          "height": 424
        },
        "id": "Z_gZRPLYX5La",
        "outputId": "d08ea02b-6cb7-483e-9e9a-83965e6ef676"
      },
      "execution_count": 55,
      "outputs": [
        {
          "output_type": "execute_result",
          "data": {
            "text/plain": [
              "    school sex  age address famsize Pstatus      Mjob      Fjob  studytime\n",
              "0       GP   F   18       U     GT3       A   at_home   teacher          2\n",
              "1       GP   F   17       U     GT3       T   at_home     other          2\n",
              "2       GP   F   15       U     LE3       T   at_home     other          2\n",
              "3       GP   F   15       U     GT3       T    health  services          3\n",
              "4       GP   F   16       U     GT3       T     other     other          2\n",
              "..     ...  ..  ...     ...     ...     ...       ...       ...        ...\n",
              "390     MS   M   20       U     LE3       A  services  services          2\n",
              "391     MS   M   17       U     LE3       T  services  services          1\n",
              "392     MS   M   21       R     GT3       T     other     other          1\n",
              "393     MS   M   18       R     LE3       T  services     other          1\n",
              "394     MS   M   19       U     LE3       T     other   at_home          1\n",
              "\n",
              "[395 rows x 9 columns]"
            ],
            "text/html": [
              "\n",
              "  <div id=\"df-386569d5-0a6d-4ef9-990b-6f2742d54283\">\n",
              "    <div class=\"colab-df-container\">\n",
              "      <div>\n",
              "<style scoped>\n",
              "    .dataframe tbody tr th:only-of-type {\n",
              "        vertical-align: middle;\n",
              "    }\n",
              "\n",
              "    .dataframe tbody tr th {\n",
              "        vertical-align: top;\n",
              "    }\n",
              "\n",
              "    .dataframe thead th {\n",
              "        text-align: right;\n",
              "    }\n",
              "</style>\n",
              "<table border=\"1\" class=\"dataframe\">\n",
              "  <thead>\n",
              "    <tr style=\"text-align: right;\">\n",
              "      <th></th>\n",
              "      <th>school</th>\n",
              "      <th>sex</th>\n",
              "      <th>age</th>\n",
              "      <th>address</th>\n",
              "      <th>famsize</th>\n",
              "      <th>Pstatus</th>\n",
              "      <th>Mjob</th>\n",
              "      <th>Fjob</th>\n",
              "      <th>studytime</th>\n",
              "    </tr>\n",
              "  </thead>\n",
              "  <tbody>\n",
              "    <tr>\n",
              "      <th>0</th>\n",
              "      <td>GP</td>\n",
              "      <td>F</td>\n",
              "      <td>18</td>\n",
              "      <td>U</td>\n",
              "      <td>GT3</td>\n",
              "      <td>A</td>\n",
              "      <td>at_home</td>\n",
              "      <td>teacher</td>\n",
              "      <td>2</td>\n",
              "    </tr>\n",
              "    <tr>\n",
              "      <th>1</th>\n",
              "      <td>GP</td>\n",
              "      <td>F</td>\n",
              "      <td>17</td>\n",
              "      <td>U</td>\n",
              "      <td>GT3</td>\n",
              "      <td>T</td>\n",
              "      <td>at_home</td>\n",
              "      <td>other</td>\n",
              "      <td>2</td>\n",
              "    </tr>\n",
              "    <tr>\n",
              "      <th>2</th>\n",
              "      <td>GP</td>\n",
              "      <td>F</td>\n",
              "      <td>15</td>\n",
              "      <td>U</td>\n",
              "      <td>LE3</td>\n",
              "      <td>T</td>\n",
              "      <td>at_home</td>\n",
              "      <td>other</td>\n",
              "      <td>2</td>\n",
              "    </tr>\n",
              "    <tr>\n",
              "      <th>3</th>\n",
              "      <td>GP</td>\n",
              "      <td>F</td>\n",
              "      <td>15</td>\n",
              "      <td>U</td>\n",
              "      <td>GT3</td>\n",
              "      <td>T</td>\n",
              "      <td>health</td>\n",
              "      <td>services</td>\n",
              "      <td>3</td>\n",
              "    </tr>\n",
              "    <tr>\n",
              "      <th>4</th>\n",
              "      <td>GP</td>\n",
              "      <td>F</td>\n",
              "      <td>16</td>\n",
              "      <td>U</td>\n",
              "      <td>GT3</td>\n",
              "      <td>T</td>\n",
              "      <td>other</td>\n",
              "      <td>other</td>\n",
              "      <td>2</td>\n",
              "    </tr>\n",
              "    <tr>\n",
              "      <th>...</th>\n",
              "      <td>...</td>\n",
              "      <td>...</td>\n",
              "      <td>...</td>\n",
              "      <td>...</td>\n",
              "      <td>...</td>\n",
              "      <td>...</td>\n",
              "      <td>...</td>\n",
              "      <td>...</td>\n",
              "      <td>...</td>\n",
              "    </tr>\n",
              "    <tr>\n",
              "      <th>390</th>\n",
              "      <td>MS</td>\n",
              "      <td>M</td>\n",
              "      <td>20</td>\n",
              "      <td>U</td>\n",
              "      <td>LE3</td>\n",
              "      <td>A</td>\n",
              "      <td>services</td>\n",
              "      <td>services</td>\n",
              "      <td>2</td>\n",
              "    </tr>\n",
              "    <tr>\n",
              "      <th>391</th>\n",
              "      <td>MS</td>\n",
              "      <td>M</td>\n",
              "      <td>17</td>\n",
              "      <td>U</td>\n",
              "      <td>LE3</td>\n",
              "      <td>T</td>\n",
              "      <td>services</td>\n",
              "      <td>services</td>\n",
              "      <td>1</td>\n",
              "    </tr>\n",
              "    <tr>\n",
              "      <th>392</th>\n",
              "      <td>MS</td>\n",
              "      <td>M</td>\n",
              "      <td>21</td>\n",
              "      <td>R</td>\n",
              "      <td>GT3</td>\n",
              "      <td>T</td>\n",
              "      <td>other</td>\n",
              "      <td>other</td>\n",
              "      <td>1</td>\n",
              "    </tr>\n",
              "    <tr>\n",
              "      <th>393</th>\n",
              "      <td>MS</td>\n",
              "      <td>M</td>\n",
              "      <td>18</td>\n",
              "      <td>R</td>\n",
              "      <td>LE3</td>\n",
              "      <td>T</td>\n",
              "      <td>services</td>\n",
              "      <td>other</td>\n",
              "      <td>1</td>\n",
              "    </tr>\n",
              "    <tr>\n",
              "      <th>394</th>\n",
              "      <td>MS</td>\n",
              "      <td>M</td>\n",
              "      <td>19</td>\n",
              "      <td>U</td>\n",
              "      <td>LE3</td>\n",
              "      <td>T</td>\n",
              "      <td>other</td>\n",
              "      <td>at_home</td>\n",
              "      <td>1</td>\n",
              "    </tr>\n",
              "  </tbody>\n",
              "</table>\n",
              "<p>395 rows × 9 columns</p>\n",
              "</div>\n",
              "      <button class=\"colab-df-convert\" onclick=\"convertToInteractive('df-386569d5-0a6d-4ef9-990b-6f2742d54283')\"\n",
              "              title=\"Convert this dataframe to an interactive table.\"\n",
              "              style=\"display:none;\">\n",
              "        \n",
              "  <svg xmlns=\"http://www.w3.org/2000/svg\" height=\"24px\"viewBox=\"0 0 24 24\"\n",
              "       width=\"24px\">\n",
              "    <path d=\"M0 0h24v24H0V0z\" fill=\"none\"/>\n",
              "    <path d=\"M18.56 5.44l.94 2.06.94-2.06 2.06-.94-2.06-.94-.94-2.06-.94 2.06-2.06.94zm-11 1L8.5 8.5l.94-2.06 2.06-.94-2.06-.94L8.5 2.5l-.94 2.06-2.06.94zm10 10l.94 2.06.94-2.06 2.06-.94-2.06-.94-.94-2.06-.94 2.06-2.06.94z\"/><path d=\"M17.41 7.96l-1.37-1.37c-.4-.4-.92-.59-1.43-.59-.52 0-1.04.2-1.43.59L10.3 9.45l-7.72 7.72c-.78.78-.78 2.05 0 2.83L4 21.41c.39.39.9.59 1.41.59.51 0 1.02-.2 1.41-.59l7.78-7.78 2.81-2.81c.8-.78.8-2.07 0-2.86zM5.41 20L4 18.59l7.72-7.72 1.47 1.35L5.41 20z\"/>\n",
              "  </svg>\n",
              "      </button>\n",
              "      \n",
              "  <style>\n",
              "    .colab-df-container {\n",
              "      display:flex;\n",
              "      flex-wrap:wrap;\n",
              "      gap: 12px;\n",
              "    }\n",
              "\n",
              "    .colab-df-convert {\n",
              "      background-color: #E8F0FE;\n",
              "      border: none;\n",
              "      border-radius: 50%;\n",
              "      cursor: pointer;\n",
              "      display: none;\n",
              "      fill: #1967D2;\n",
              "      height: 32px;\n",
              "      padding: 0 0 0 0;\n",
              "      width: 32px;\n",
              "    }\n",
              "\n",
              "    .colab-df-convert:hover {\n",
              "      background-color: #E2EBFA;\n",
              "      box-shadow: 0px 1px 2px rgba(60, 64, 67, 0.3), 0px 1px 3px 1px rgba(60, 64, 67, 0.15);\n",
              "      fill: #174EA6;\n",
              "    }\n",
              "\n",
              "    [theme=dark] .colab-df-convert {\n",
              "      background-color: #3B4455;\n",
              "      fill: #D2E3FC;\n",
              "    }\n",
              "\n",
              "    [theme=dark] .colab-df-convert:hover {\n",
              "      background-color: #434B5C;\n",
              "      box-shadow: 0px 1px 3px 1px rgba(0, 0, 0, 0.15);\n",
              "      filter: drop-shadow(0px 1px 2px rgba(0, 0, 0, 0.3));\n",
              "      fill: #FFFFFF;\n",
              "    }\n",
              "  </style>\n",
              "\n",
              "      <script>\n",
              "        const buttonEl =\n",
              "          document.querySelector('#df-386569d5-0a6d-4ef9-990b-6f2742d54283 button.colab-df-convert');\n",
              "        buttonEl.style.display =\n",
              "          google.colab.kernel.accessAllowed ? 'block' : 'none';\n",
              "\n",
              "        async function convertToInteractive(key) {\n",
              "          const element = document.querySelector('#df-386569d5-0a6d-4ef9-990b-6f2742d54283');\n",
              "          const dataTable =\n",
              "            await google.colab.kernel.invokeFunction('convertToInteractive',\n",
              "                                                     [key], {});\n",
              "          if (!dataTable) return;\n",
              "\n",
              "          const docLinkHtml = 'Like what you see? Visit the ' +\n",
              "            '<a target=\"_blank\" href=https://colab.research.google.com/notebooks/data_table.ipynb>data table notebook</a>'\n",
              "            + ' to learn more about interactive tables.';\n",
              "          element.innerHTML = '';\n",
              "          dataTable['output_type'] = 'display_data';\n",
              "          await google.colab.output.renderOutput(dataTable, element);\n",
              "          const docLink = document.createElement('div');\n",
              "          docLink.innerHTML = docLinkHtml;\n",
              "          element.appendChild(docLink);\n",
              "        }\n",
              "      </script>\n",
              "    </div>\n",
              "  </div>\n",
              "  "
            ]
          },
          "metadata": {},
          "execution_count": 55
        }
      ]
    },
    {
      "cell_type": "code",
      "source": [
        "dataset_dropped.columns"
      ],
      "metadata": {
        "execution": {
          "iopub.status.busy": "2022-06-12T05:15:49.349730Z",
          "iopub.execute_input": "2022-06-12T05:15:49.350202Z",
          "iopub.status.idle": "2022-06-12T05:15:49.357197Z",
          "shell.execute_reply.started": "2022-06-12T05:15:49.350165Z",
          "shell.execute_reply": "2022-06-12T05:15:49.356229Z"
        },
        "trusted": true,
        "colab": {
          "base_uri": "https://localhost:8080/"
        },
        "id": "SEWaVKAUX5Lb",
        "outputId": "14682504-73e2-436d-8822-a8868800a394"
      },
      "execution_count": 56,
      "outputs": [
        {
          "output_type": "execute_result",
          "data": {
            "text/plain": [
              "Index(['school', 'sex', 'age', 'address', 'famsize', 'Pstatus', 'Mjob', 'Fjob',\n",
              "       'studytime'],\n",
              "      dtype='object')"
            ]
          },
          "metadata": {},
          "execution_count": 56
        }
      ]
    },
    {
      "cell_type": "markdown",
      "source": [
        "# Hot Encoding data"
      ],
      "metadata": {
        "id": "U037uff-X5Lb"
      }
    },
    {
      "cell_type": "code",
      "source": [
        "one_encoded_data = pd.get_dummies(data = dataset_dropped, columns = ['school', 'sex', 'famsize', 'Pstatus', 'Mjob', 'Fjob',\n",
        "       'studytime'])\n",
        "\n",
        "one_encoded_data"
      ],
      "metadata": {
        "execution": {
          "iopub.status.busy": "2022-06-12T05:15:49.359095Z",
          "iopub.execute_input": "2022-06-12T05:15:49.360082Z",
          "iopub.status.idle": "2022-06-12T05:15:49.400251Z",
          "shell.execute_reply.started": "2022-06-12T05:15:49.360030Z",
          "shell.execute_reply": "2022-06-12T05:15:49.399418Z"
        },
        "trusted": true,
        "colab": {
          "base_uri": "https://localhost:8080/",
          "height": 488
        },
        "id": "MGAvaoNTX5Lb",
        "outputId": "f4b6c81b-f851-4a69-b82b-2da568bc7a5f"
      },
      "execution_count": 57,
      "outputs": [
        {
          "output_type": "execute_result",
          "data": {
            "text/plain": [
              "     age address  school_GP  school_MS  sex_F  sex_M  famsize_GT3  \\\n",
              "0     18       U          1          0      1      0            1   \n",
              "1     17       U          1          0      1      0            1   \n",
              "2     15       U          1          0      1      0            0   \n",
              "3     15       U          1          0      1      0            1   \n",
              "4     16       U          1          0      1      0            1   \n",
              "..   ...     ...        ...        ...    ...    ...          ...   \n",
              "390   20       U          0          1      0      1            0   \n",
              "391   17       U          0          1      0      1            0   \n",
              "392   21       R          0          1      0      1            1   \n",
              "393   18       R          0          1      0      1            0   \n",
              "394   19       U          0          1      0      1            0   \n",
              "\n",
              "     famsize_LE3  Pstatus_A  Pstatus_T  ...  Mjob_teacher  Fjob_at_home  \\\n",
              "0              0          1          0  ...             0             0   \n",
              "1              0          0          1  ...             0             0   \n",
              "2              1          0          1  ...             0             0   \n",
              "3              0          0          1  ...             0             0   \n",
              "4              0          0          1  ...             0             0   \n",
              "..           ...        ...        ...  ...           ...           ...   \n",
              "390            1          1          0  ...             0             0   \n",
              "391            1          0          1  ...             0             0   \n",
              "392            0          0          1  ...             0             0   \n",
              "393            1          0          1  ...             0             0   \n",
              "394            1          0          1  ...             0             1   \n",
              "\n",
              "     Fjob_health  Fjob_other  Fjob_services  Fjob_teacher  studytime_1  \\\n",
              "0              0           0              0             1            0   \n",
              "1              0           1              0             0            0   \n",
              "2              0           1              0             0            0   \n",
              "3              0           0              1             0            0   \n",
              "4              0           1              0             0            0   \n",
              "..           ...         ...            ...           ...          ...   \n",
              "390            0           0              1             0            0   \n",
              "391            0           0              1             0            1   \n",
              "392            0           1              0             0            1   \n",
              "393            0           1              0             0            1   \n",
              "394            0           0              0             0            1   \n",
              "\n",
              "     studytime_2  studytime_3  studytime_4  \n",
              "0              1            0            0  \n",
              "1              1            0            0  \n",
              "2              1            0            0  \n",
              "3              0            1            0  \n",
              "4              1            0            0  \n",
              "..           ...          ...          ...  \n",
              "390            1            0            0  \n",
              "391            0            0            0  \n",
              "392            0            0            0  \n",
              "393            0            0            0  \n",
              "394            0            0            0  \n",
              "\n",
              "[395 rows x 24 columns]"
            ],
            "text/html": [
              "\n",
              "  <div id=\"df-ae2d2e3b-f1c7-447e-b571-18a0666a4597\">\n",
              "    <div class=\"colab-df-container\">\n",
              "      <div>\n",
              "<style scoped>\n",
              "    .dataframe tbody tr th:only-of-type {\n",
              "        vertical-align: middle;\n",
              "    }\n",
              "\n",
              "    .dataframe tbody tr th {\n",
              "        vertical-align: top;\n",
              "    }\n",
              "\n",
              "    .dataframe thead th {\n",
              "        text-align: right;\n",
              "    }\n",
              "</style>\n",
              "<table border=\"1\" class=\"dataframe\">\n",
              "  <thead>\n",
              "    <tr style=\"text-align: right;\">\n",
              "      <th></th>\n",
              "      <th>age</th>\n",
              "      <th>address</th>\n",
              "      <th>school_GP</th>\n",
              "      <th>school_MS</th>\n",
              "      <th>sex_F</th>\n",
              "      <th>sex_M</th>\n",
              "      <th>famsize_GT3</th>\n",
              "      <th>famsize_LE3</th>\n",
              "      <th>Pstatus_A</th>\n",
              "      <th>Pstatus_T</th>\n",
              "      <th>...</th>\n",
              "      <th>Mjob_teacher</th>\n",
              "      <th>Fjob_at_home</th>\n",
              "      <th>Fjob_health</th>\n",
              "      <th>Fjob_other</th>\n",
              "      <th>Fjob_services</th>\n",
              "      <th>Fjob_teacher</th>\n",
              "      <th>studytime_1</th>\n",
              "      <th>studytime_2</th>\n",
              "      <th>studytime_3</th>\n",
              "      <th>studytime_4</th>\n",
              "    </tr>\n",
              "  </thead>\n",
              "  <tbody>\n",
              "    <tr>\n",
              "      <th>0</th>\n",
              "      <td>18</td>\n",
              "      <td>U</td>\n",
              "      <td>1</td>\n",
              "      <td>0</td>\n",
              "      <td>1</td>\n",
              "      <td>0</td>\n",
              "      <td>1</td>\n",
              "      <td>0</td>\n",
              "      <td>1</td>\n",
              "      <td>0</td>\n",
              "      <td>...</td>\n",
              "      <td>0</td>\n",
              "      <td>0</td>\n",
              "      <td>0</td>\n",
              "      <td>0</td>\n",
              "      <td>0</td>\n",
              "      <td>1</td>\n",
              "      <td>0</td>\n",
              "      <td>1</td>\n",
              "      <td>0</td>\n",
              "      <td>0</td>\n",
              "    </tr>\n",
              "    <tr>\n",
              "      <th>1</th>\n",
              "      <td>17</td>\n",
              "      <td>U</td>\n",
              "      <td>1</td>\n",
              "      <td>0</td>\n",
              "      <td>1</td>\n",
              "      <td>0</td>\n",
              "      <td>1</td>\n",
              "      <td>0</td>\n",
              "      <td>0</td>\n",
              "      <td>1</td>\n",
              "      <td>...</td>\n",
              "      <td>0</td>\n",
              "      <td>0</td>\n",
              "      <td>0</td>\n",
              "      <td>1</td>\n",
              "      <td>0</td>\n",
              "      <td>0</td>\n",
              "      <td>0</td>\n",
              "      <td>1</td>\n",
              "      <td>0</td>\n",
              "      <td>0</td>\n",
              "    </tr>\n",
              "    <tr>\n",
              "      <th>2</th>\n",
              "      <td>15</td>\n",
              "      <td>U</td>\n",
              "      <td>1</td>\n",
              "      <td>0</td>\n",
              "      <td>1</td>\n",
              "      <td>0</td>\n",
              "      <td>0</td>\n",
              "      <td>1</td>\n",
              "      <td>0</td>\n",
              "      <td>1</td>\n",
              "      <td>...</td>\n",
              "      <td>0</td>\n",
              "      <td>0</td>\n",
              "      <td>0</td>\n",
              "      <td>1</td>\n",
              "      <td>0</td>\n",
              "      <td>0</td>\n",
              "      <td>0</td>\n",
              "      <td>1</td>\n",
              "      <td>0</td>\n",
              "      <td>0</td>\n",
              "    </tr>\n",
              "    <tr>\n",
              "      <th>3</th>\n",
              "      <td>15</td>\n",
              "      <td>U</td>\n",
              "      <td>1</td>\n",
              "      <td>0</td>\n",
              "      <td>1</td>\n",
              "      <td>0</td>\n",
              "      <td>1</td>\n",
              "      <td>0</td>\n",
              "      <td>0</td>\n",
              "      <td>1</td>\n",
              "      <td>...</td>\n",
              "      <td>0</td>\n",
              "      <td>0</td>\n",
              "      <td>0</td>\n",
              "      <td>0</td>\n",
              "      <td>1</td>\n",
              "      <td>0</td>\n",
              "      <td>0</td>\n",
              "      <td>0</td>\n",
              "      <td>1</td>\n",
              "      <td>0</td>\n",
              "    </tr>\n",
              "    <tr>\n",
              "      <th>4</th>\n",
              "      <td>16</td>\n",
              "      <td>U</td>\n",
              "      <td>1</td>\n",
              "      <td>0</td>\n",
              "      <td>1</td>\n",
              "      <td>0</td>\n",
              "      <td>1</td>\n",
              "      <td>0</td>\n",
              "      <td>0</td>\n",
              "      <td>1</td>\n",
              "      <td>...</td>\n",
              "      <td>0</td>\n",
              "      <td>0</td>\n",
              "      <td>0</td>\n",
              "      <td>1</td>\n",
              "      <td>0</td>\n",
              "      <td>0</td>\n",
              "      <td>0</td>\n",
              "      <td>1</td>\n",
              "      <td>0</td>\n",
              "      <td>0</td>\n",
              "    </tr>\n",
              "    <tr>\n",
              "      <th>...</th>\n",
              "      <td>...</td>\n",
              "      <td>...</td>\n",
              "      <td>...</td>\n",
              "      <td>...</td>\n",
              "      <td>...</td>\n",
              "      <td>...</td>\n",
              "      <td>...</td>\n",
              "      <td>...</td>\n",
              "      <td>...</td>\n",
              "      <td>...</td>\n",
              "      <td>...</td>\n",
              "      <td>...</td>\n",
              "      <td>...</td>\n",
              "      <td>...</td>\n",
              "      <td>...</td>\n",
              "      <td>...</td>\n",
              "      <td>...</td>\n",
              "      <td>...</td>\n",
              "      <td>...</td>\n",
              "      <td>...</td>\n",
              "      <td>...</td>\n",
              "    </tr>\n",
              "    <tr>\n",
              "      <th>390</th>\n",
              "      <td>20</td>\n",
              "      <td>U</td>\n",
              "      <td>0</td>\n",
              "      <td>1</td>\n",
              "      <td>0</td>\n",
              "      <td>1</td>\n",
              "      <td>0</td>\n",
              "      <td>1</td>\n",
              "      <td>1</td>\n",
              "      <td>0</td>\n",
              "      <td>...</td>\n",
              "      <td>0</td>\n",
              "      <td>0</td>\n",
              "      <td>0</td>\n",
              "      <td>0</td>\n",
              "      <td>1</td>\n",
              "      <td>0</td>\n",
              "      <td>0</td>\n",
              "      <td>1</td>\n",
              "      <td>0</td>\n",
              "      <td>0</td>\n",
              "    </tr>\n",
              "    <tr>\n",
              "      <th>391</th>\n",
              "      <td>17</td>\n",
              "      <td>U</td>\n",
              "      <td>0</td>\n",
              "      <td>1</td>\n",
              "      <td>0</td>\n",
              "      <td>1</td>\n",
              "      <td>0</td>\n",
              "      <td>1</td>\n",
              "      <td>0</td>\n",
              "      <td>1</td>\n",
              "      <td>...</td>\n",
              "      <td>0</td>\n",
              "      <td>0</td>\n",
              "      <td>0</td>\n",
              "      <td>0</td>\n",
              "      <td>1</td>\n",
              "      <td>0</td>\n",
              "      <td>1</td>\n",
              "      <td>0</td>\n",
              "      <td>0</td>\n",
              "      <td>0</td>\n",
              "    </tr>\n",
              "    <tr>\n",
              "      <th>392</th>\n",
              "      <td>21</td>\n",
              "      <td>R</td>\n",
              "      <td>0</td>\n",
              "      <td>1</td>\n",
              "      <td>0</td>\n",
              "      <td>1</td>\n",
              "      <td>1</td>\n",
              "      <td>0</td>\n",
              "      <td>0</td>\n",
              "      <td>1</td>\n",
              "      <td>...</td>\n",
              "      <td>0</td>\n",
              "      <td>0</td>\n",
              "      <td>0</td>\n",
              "      <td>1</td>\n",
              "      <td>0</td>\n",
              "      <td>0</td>\n",
              "      <td>1</td>\n",
              "      <td>0</td>\n",
              "      <td>0</td>\n",
              "      <td>0</td>\n",
              "    </tr>\n",
              "    <tr>\n",
              "      <th>393</th>\n",
              "      <td>18</td>\n",
              "      <td>R</td>\n",
              "      <td>0</td>\n",
              "      <td>1</td>\n",
              "      <td>0</td>\n",
              "      <td>1</td>\n",
              "      <td>0</td>\n",
              "      <td>1</td>\n",
              "      <td>0</td>\n",
              "      <td>1</td>\n",
              "      <td>...</td>\n",
              "      <td>0</td>\n",
              "      <td>0</td>\n",
              "      <td>0</td>\n",
              "      <td>1</td>\n",
              "      <td>0</td>\n",
              "      <td>0</td>\n",
              "      <td>1</td>\n",
              "      <td>0</td>\n",
              "      <td>0</td>\n",
              "      <td>0</td>\n",
              "    </tr>\n",
              "    <tr>\n",
              "      <th>394</th>\n",
              "      <td>19</td>\n",
              "      <td>U</td>\n",
              "      <td>0</td>\n",
              "      <td>1</td>\n",
              "      <td>0</td>\n",
              "      <td>1</td>\n",
              "      <td>0</td>\n",
              "      <td>1</td>\n",
              "      <td>0</td>\n",
              "      <td>1</td>\n",
              "      <td>...</td>\n",
              "      <td>0</td>\n",
              "      <td>1</td>\n",
              "      <td>0</td>\n",
              "      <td>0</td>\n",
              "      <td>0</td>\n",
              "      <td>0</td>\n",
              "      <td>1</td>\n",
              "      <td>0</td>\n",
              "      <td>0</td>\n",
              "      <td>0</td>\n",
              "    </tr>\n",
              "  </tbody>\n",
              "</table>\n",
              "<p>395 rows × 24 columns</p>\n",
              "</div>\n",
              "      <button class=\"colab-df-convert\" onclick=\"convertToInteractive('df-ae2d2e3b-f1c7-447e-b571-18a0666a4597')\"\n",
              "              title=\"Convert this dataframe to an interactive table.\"\n",
              "              style=\"display:none;\">\n",
              "        \n",
              "  <svg xmlns=\"http://www.w3.org/2000/svg\" height=\"24px\"viewBox=\"0 0 24 24\"\n",
              "       width=\"24px\">\n",
              "    <path d=\"M0 0h24v24H0V0z\" fill=\"none\"/>\n",
              "    <path d=\"M18.56 5.44l.94 2.06.94-2.06 2.06-.94-2.06-.94-.94-2.06-.94 2.06-2.06.94zm-11 1L8.5 8.5l.94-2.06 2.06-.94-2.06-.94L8.5 2.5l-.94 2.06-2.06.94zm10 10l.94 2.06.94-2.06 2.06-.94-2.06-.94-.94-2.06-.94 2.06-2.06.94z\"/><path d=\"M17.41 7.96l-1.37-1.37c-.4-.4-.92-.59-1.43-.59-.52 0-1.04.2-1.43.59L10.3 9.45l-7.72 7.72c-.78.78-.78 2.05 0 2.83L4 21.41c.39.39.9.59 1.41.59.51 0 1.02-.2 1.41-.59l7.78-7.78 2.81-2.81c.8-.78.8-2.07 0-2.86zM5.41 20L4 18.59l7.72-7.72 1.47 1.35L5.41 20z\"/>\n",
              "  </svg>\n",
              "      </button>\n",
              "      \n",
              "  <style>\n",
              "    .colab-df-container {\n",
              "      display:flex;\n",
              "      flex-wrap:wrap;\n",
              "      gap: 12px;\n",
              "    }\n",
              "\n",
              "    .colab-df-convert {\n",
              "      background-color: #E8F0FE;\n",
              "      border: none;\n",
              "      border-radius: 50%;\n",
              "      cursor: pointer;\n",
              "      display: none;\n",
              "      fill: #1967D2;\n",
              "      height: 32px;\n",
              "      padding: 0 0 0 0;\n",
              "      width: 32px;\n",
              "    }\n",
              "\n",
              "    .colab-df-convert:hover {\n",
              "      background-color: #E2EBFA;\n",
              "      box-shadow: 0px 1px 2px rgba(60, 64, 67, 0.3), 0px 1px 3px 1px rgba(60, 64, 67, 0.15);\n",
              "      fill: #174EA6;\n",
              "    }\n",
              "\n",
              "    [theme=dark] .colab-df-convert {\n",
              "      background-color: #3B4455;\n",
              "      fill: #D2E3FC;\n",
              "    }\n",
              "\n",
              "    [theme=dark] .colab-df-convert:hover {\n",
              "      background-color: #434B5C;\n",
              "      box-shadow: 0px 1px 3px 1px rgba(0, 0, 0, 0.15);\n",
              "      filter: drop-shadow(0px 1px 2px rgba(0, 0, 0, 0.3));\n",
              "      fill: #FFFFFF;\n",
              "    }\n",
              "  </style>\n",
              "\n",
              "      <script>\n",
              "        const buttonEl =\n",
              "          document.querySelector('#df-ae2d2e3b-f1c7-447e-b571-18a0666a4597 button.colab-df-convert');\n",
              "        buttonEl.style.display =\n",
              "          google.colab.kernel.accessAllowed ? 'block' : 'none';\n",
              "\n",
              "        async function convertToInteractive(key) {\n",
              "          const element = document.querySelector('#df-ae2d2e3b-f1c7-447e-b571-18a0666a4597');\n",
              "          const dataTable =\n",
              "            await google.colab.kernel.invokeFunction('convertToInteractive',\n",
              "                                                     [key], {});\n",
              "          if (!dataTable) return;\n",
              "\n",
              "          const docLinkHtml = 'Like what you see? Visit the ' +\n",
              "            '<a target=\"_blank\" href=https://colab.research.google.com/notebooks/data_table.ipynb>data table notebook</a>'\n",
              "            + ' to learn more about interactive tables.';\n",
              "          element.innerHTML = '';\n",
              "          dataTable['output_type'] = 'display_data';\n",
              "          await google.colab.output.renderOutput(dataTable, element);\n",
              "          const docLink = document.createElement('div');\n",
              "          docLink.innerHTML = docLinkHtml;\n",
              "          element.appendChild(docLink);\n",
              "        }\n",
              "      </script>\n",
              "    </div>\n",
              "  </div>\n",
              "  "
            ]
          },
          "metadata": {},
          "execution_count": 57
        }
      ]
    },
    {
      "cell_type": "markdown",
      "source": [
        "# To Predict Address lol!"
      ],
      "metadata": {
        "id": "8U4XKl4iX5Lb"
      }
    },
    {
      "cell_type": "markdown",
      "source": [
        "let U = 1, R = 0"
      ],
      "metadata": {
        "id": "0dOKx176X5Ld"
      }
    },
    {
      "cell_type": "code",
      "source": [
        "one_encoded_data['address'] = one_encoded_data['address'].replace(['U','R'],[1,0])\n",
        "new_Data = one_encoded_data\n",
        "new_Data.shape"
      ],
      "metadata": {
        "execution": {
          "iopub.status.busy": "2022-06-12T05:15:49.401599Z",
          "iopub.execute_input": "2022-06-12T05:15:49.403020Z",
          "iopub.status.idle": "2022-06-12T05:15:49.414533Z",
          "shell.execute_reply.started": "2022-06-12T05:15:49.402946Z",
          "shell.execute_reply": "2022-06-12T05:15:49.413377Z"
        },
        "trusted": true,
        "colab": {
          "base_uri": "https://localhost:8080/"
        },
        "id": "rBMwIUH0X5Ld",
        "outputId": "cac82a80-d4d8-40cc-eb5d-e4b1e8e41ea0"
      },
      "execution_count": 58,
      "outputs": [
        {
          "output_type": "execute_result",
          "data": {
            "text/plain": [
              "(395, 24)"
            ]
          },
          "metadata": {},
          "execution_count": 58
        }
      ]
    },
    {
      "cell_type": "markdown",
      "source": [
        "## X_data are the festures(parameters) used to predict Y_data(result)"
      ],
      "metadata": {
        "id": "qu3yiXxAX5Ld"
      }
    },
    {
      "cell_type": "code",
      "source": [
        "X_data = new_Data.drop(['address'],axis =1)\n",
        "X_data.shape"
      ],
      "metadata": {
        "execution": {
          "iopub.status.busy": "2022-06-12T05:15:49.416152Z",
          "iopub.execute_input": "2022-06-12T05:15:49.416795Z",
          "iopub.status.idle": "2022-06-12T05:15:49.432312Z",
          "shell.execute_reply.started": "2022-06-12T05:15:49.416752Z",
          "shell.execute_reply": "2022-06-12T05:15:49.431349Z"
        },
        "trusted": true,
        "colab": {
          "base_uri": "https://localhost:8080/"
        },
        "id": "TT9y810KX5Ld",
        "outputId": "944dee6f-b968-450c-c4ab-caa0301de9ed"
      },
      "execution_count": 59,
      "outputs": [
        {
          "output_type": "execute_result",
          "data": {
            "text/plain": [
              "(395, 23)"
            ]
          },
          "metadata": {},
          "execution_count": 59
        }
      ]
    },
    {
      "cell_type": "code",
      "source": [
        "Y_data = new_Data['address']\n",
        "Y_data.shape"
      ],
      "metadata": {
        "execution": {
          "iopub.status.busy": "2022-06-12T05:15:49.433798Z",
          "iopub.execute_input": "2022-06-12T05:15:49.434359Z",
          "iopub.status.idle": "2022-06-12T05:15:49.444804Z",
          "shell.execute_reply.started": "2022-06-12T05:15:49.434319Z",
          "shell.execute_reply": "2022-06-12T05:15:49.443612Z"
        },
        "trusted": true,
        "colab": {
          "base_uri": "https://localhost:8080/"
        },
        "id": "cmaUIwbFX5Le",
        "outputId": "c57b85f9-107b-4550-e0d8-cd788c630982"
      },
      "execution_count": 60,
      "outputs": [
        {
          "output_type": "execute_result",
          "data": {
            "text/plain": [
              "(395,)"
            ]
          },
          "metadata": {},
          "execution_count": 60
        }
      ]
    },
    {
      "cell_type": "code",
      "source": [
        "# Spliting arrays or matrices into random train and test subsets\n",
        "from sklearn.model_selection import train_test_split\n",
        "# i.e. 70 % training dataset and 30 % test datasets\n",
        "x_train, x_test, y_train, y_test = train_test_split(X_data, Y_data, test_size = 0.30)"
      ],
      "metadata": {
        "execution": {
          "iopub.status.busy": "2022-06-12T05:15:49.446546Z",
          "iopub.execute_input": "2022-06-12T05:15:49.447386Z",
          "iopub.status.idle": "2022-06-12T05:15:50.075324Z",
          "shell.execute_reply.started": "2022-06-12T05:15:49.447340Z",
          "shell.execute_reply": "2022-06-12T05:15:50.074209Z"
        },
        "trusted": true,
        "id": "fI-v32JYX5Le"
      },
      "execution_count": 61,
      "outputs": []
    },
    {
      "cell_type": "code",
      "source": [
        "x_train.shape"
      ],
      "metadata": {
        "execution": {
          "iopub.status.busy": "2022-06-12T05:15:50.078652Z",
          "iopub.execute_input": "2022-06-12T05:15:50.079517Z",
          "iopub.status.idle": "2022-06-12T05:15:50.088550Z",
          "shell.execute_reply.started": "2022-06-12T05:15:50.079478Z",
          "shell.execute_reply": "2022-06-12T05:15:50.087389Z"
        },
        "trusted": true,
        "colab": {
          "base_uri": "https://localhost:8080/"
        },
        "id": "-zVyCvUsX5Le",
        "outputId": "a3853692-310d-41ae-edbb-8789073ae454"
      },
      "execution_count": 62,
      "outputs": [
        {
          "output_type": "execute_result",
          "data": {
            "text/plain": [
              "(276, 23)"
            ]
          },
          "metadata": {},
          "execution_count": 62
        }
      ]
    },
    {
      "cell_type": "code",
      "source": [
        "from sklearn.ensemble import RandomForestClassifier\n",
        "\n",
        "# creating a RF classifier\n",
        "clf = RandomForestClassifier(n_estimators = 100) \n",
        " \n",
        "# Training the model on the training dataset\n",
        "# fit function is used to train the model using the training sets as parameters\n",
        "clf.fit(x_train, y_train)\n",
        " \n",
        "# performing predictions on the test dataset\n",
        "y_pred = clf.predict(x_test)\n",
        " \n",
        "# metrics are used to find accuracy or error\n",
        "from sklearn import metrics \n",
        "print()\n",
        " \n",
        "# using metrics module for accuracy calculation\n",
        "print(\"ACCURACY OF THE INITIAL MODEL: \", metrics.accuracy_score(y_test, y_pred))"
      ],
      "metadata": {
        "execution": {
          "iopub.status.busy": "2022-06-12T05:15:50.090079Z",
          "iopub.execute_input": "2022-06-12T05:15:50.090550Z",
          "iopub.status.idle": "2022-06-12T05:15:50.517744Z",
          "shell.execute_reply.started": "2022-06-12T05:15:50.090506Z",
          "shell.execute_reply": "2022-06-12T05:15:50.516743Z"
        },
        "trusted": true,
        "colab": {
          "base_uri": "https://localhost:8080/"
        },
        "id": "CDudSdEZX5Le",
        "outputId": "dd1b7464-a17e-4f60-b50c-b1613c16ef94"
      },
      "execution_count": 63,
      "outputs": [
        {
          "output_type": "stream",
          "name": "stdout",
          "text": [
            "\n",
            "ACCURACY OF THE INITIAL MODEL:  0.7394957983193278\n"
          ]
        }
      ]
    },
    {
      "cell_type": "markdown",
      "source": [
        "## Now we reduce the data for the ML model"
      ],
      "metadata": {
        "id": "-ELbvfI4X5Lf"
      }
    },
    {
      "cell_type": "code",
      "source": [
        "X_data.shape"
      ],
      "metadata": {
        "execution": {
          "iopub.status.busy": "2022-06-12T05:15:50.519113Z",
          "iopub.execute_input": "2022-06-12T05:15:50.520022Z",
          "iopub.status.idle": "2022-06-12T05:15:50.525505Z",
          "shell.execute_reply.started": "2022-06-12T05:15:50.519973Z",
          "shell.execute_reply": "2022-06-12T05:15:50.524718Z"
        },
        "trusted": true,
        "colab": {
          "base_uri": "https://localhost:8080/"
        },
        "id": "c1H5cYOBX5Lf",
        "outputId": "f4f50712-f4bc-4000-de41-b108d532613c"
      },
      "execution_count": 64,
      "outputs": [
        {
          "output_type": "execute_result",
          "data": {
            "text/plain": [
              "(395, 23)"
            ]
          },
          "metadata": {},
          "execution_count": 64
        }
      ]
    },
    {
      "cell_type": "markdown",
      "source": [
        "### taking random rows for training"
      ],
      "metadata": {
        "id": "VGZvCQ-Xa8XV"
      }
    },
    {
      "cell_type": "code",
      "source": [
        "X_data_reduced = X_data[20:50]\n",
        "X_data_reduced.shape"
      ],
      "metadata": {
        "execution": {
          "iopub.status.busy": "2022-06-12T05:15:50.528105Z",
          "iopub.execute_input": "2022-06-12T05:15:50.528454Z",
          "iopub.status.idle": "2022-06-12T05:15:50.539941Z",
          "shell.execute_reply.started": "2022-06-12T05:15:50.528415Z",
          "shell.execute_reply": "2022-06-12T05:15:50.539081Z"
        },
        "trusted": true,
        "colab": {
          "base_uri": "https://localhost:8080/"
        },
        "id": "-lDAVlDEX5Lf",
        "outputId": "8ce6d033-9cc6-423c-b24c-655b739a9892"
      },
      "execution_count": 65,
      "outputs": [
        {
          "output_type": "execute_result",
          "data": {
            "text/plain": [
              "(30, 23)"
            ]
          },
          "metadata": {},
          "execution_count": 65
        }
      ]
    },
    {
      "cell_type": "code",
      "source": [
        "Y_data_reduced = Y_data[20:50]\n",
        "Y_data_reduced.shape"
      ],
      "metadata": {
        "execution": {
          "iopub.status.busy": "2022-06-12T05:15:50.540930Z",
          "iopub.execute_input": "2022-06-12T05:15:50.541783Z",
          "iopub.status.idle": "2022-06-12T05:15:50.552622Z",
          "shell.execute_reply.started": "2022-06-12T05:15:50.541738Z",
          "shell.execute_reply": "2022-06-12T05:15:50.551563Z"
        },
        "trusted": true,
        "colab": {
          "base_uri": "https://localhost:8080/"
        },
        "id": "hRJLBDzyX5Lf",
        "outputId": "08cdb239-ea62-498f-df74-cf6d41897225"
      },
      "execution_count": 66,
      "outputs": [
        {
          "output_type": "execute_result",
          "data": {
            "text/plain": [
              "(30,)"
            ]
          },
          "metadata": {},
          "execution_count": 66
        }
      ]
    },
    {
      "cell_type": "markdown",
      "source": [
        "ml part for the reduced dataset"
      ],
      "metadata": {
        "id": "-yt0BSS2X5Lg"
      }
    },
    {
      "cell_type": "code",
      "source": [
        "x_train, x_test, y_train, y_test = train_test_split(X_data_reduced, Y_data_reduced, test_size = 0.30)\n",
        "\n",
        "from sklearn.ensemble import RandomForestClassifier\n",
        "\n",
        "# creating a RF classifier\n",
        "clf = RandomForestClassifier(n_estimators = 100) \n",
        " \n",
        "# Training the model on the training dataset\n",
        "# fit function is used to train the model using the training sets as parameters\n",
        "clf.fit(x_train, y_train)\n",
        " \n",
        "# performing predictions on the test dataset\n",
        "y_pred = clf.predict(x_test)\n",
        " \n",
        "# metrics are used to find accuracy or error\n",
        "from sklearn import metrics \n",
        "print()\n",
        " \n",
        "# using metrics module for accuracy calculation\n",
        "print(\"ACCURACY OF THE REDUCED MODEL: \", metrics.accuracy_score(y_test, y_pred))"
      ],
      "metadata": {
        "execution": {
          "iopub.status.busy": "2022-06-12T05:15:50.554108Z",
          "iopub.execute_input": "2022-06-12T05:15:50.554585Z",
          "iopub.status.idle": "2022-06-12T05:15:50.743438Z",
          "shell.execute_reply.started": "2022-06-12T05:15:50.554546Z",
          "shell.execute_reply": "2022-06-12T05:15:50.742458Z"
        },
        "trusted": true,
        "colab": {
          "base_uri": "https://localhost:8080/"
        },
        "id": "xleheEyvX5Lg",
        "outputId": "dba162f5-d673-4a04-8b0f-054a40abbdb8"
      },
      "execution_count": 67,
      "outputs": [
        {
          "output_type": "stream",
          "name": "stdout",
          "text": [
            "\n",
            "ACCURACY OF THE REDUCED MODEL:  0.8888888888888888\n"
          ]
        }
      ]
    },
    {
      "cell_type": "markdown",
      "source": [
        "### LMAO, overfitting be like... Anyway"
      ],
      "metadata": {
        "id": "1n-s3SvoX5Lh"
      }
    },
    {
      "cell_type": "markdown",
      "source": [
        "# using SDV to generate synthetic data"
      ],
      "metadata": {
        "id": "USy8dxEzX5Lh"
      }
    },
    {
      "cell_type": "code",
      "source": [
        "!pip install ctgan"
      ],
      "metadata": {
        "colab": {
          "base_uri": "https://localhost:8080/"
        },
        "id": "V0Q3KS0bX5Lh",
        "outputId": "d808a9b7-d575-4e6f-80e7-4b09ade1160d"
      },
      "execution_count": 68,
      "outputs": [
        {
          "output_type": "stream",
          "name": "stdout",
          "text": [
            "Looking in indexes: https://pypi.org/simple, https://us-python.pkg.dev/colab-wheels/public/simple/\n",
            "Requirement already satisfied: ctgan in /usr/local/lib/python3.7/dist-packages (0.5.1)\n",
            "Requirement already satisfied: scikit-learn<2,>=0.24 in /usr/local/lib/python3.7/dist-packages (from ctgan) (1.0.2)\n",
            "Requirement already satisfied: packaging<22,>=20 in /usr/local/lib/python3.7/dist-packages (from ctgan) (21.3)\n",
            "Requirement already satisfied: torch<2,>=1.8.0 in /usr/local/lib/python3.7/dist-packages (from ctgan) (1.11.0+cu113)\n",
            "Requirement already satisfied: torchvision<1,>=0.9.0 in /usr/local/lib/python3.7/dist-packages (from ctgan) (0.12.0+cu113)\n",
            "Requirement already satisfied: rdt<0.7,>=0.6.2 in /usr/local/lib/python3.7/dist-packages (from ctgan) (0.6.4)\n",
            "Requirement already satisfied: numpy<2,>=1.20.0 in /usr/local/lib/python3.7/dist-packages (from ctgan) (1.21.6)\n",
            "Requirement already satisfied: pandas<2,>=1.1.3 in /usr/local/lib/python3.7/dist-packages (from ctgan) (1.3.5)\n",
            "Requirement already satisfied: pyparsing!=3.0.5,>=2.0.2 in /usr/local/lib/python3.7/dist-packages (from packaging<22,>=20->ctgan) (3.0.9)\n",
            "Requirement already satisfied: python-dateutil>=2.7.3 in /usr/local/lib/python3.7/dist-packages (from pandas<2,>=1.1.3->ctgan) (2.8.2)\n",
            "Requirement already satisfied: pytz>=2017.3 in /usr/local/lib/python3.7/dist-packages (from pandas<2,>=1.1.3->ctgan) (2022.1)\n",
            "Requirement already satisfied: six>=1.5 in /usr/local/lib/python3.7/dist-packages (from python-dateutil>=2.7.3->pandas<2,>=1.1.3->ctgan) (1.15.0)\n",
            "Requirement already satisfied: scipy<1.8,>=1.5.4 in /usr/local/lib/python3.7/dist-packages (from rdt<0.7,>=0.6.2->ctgan) (1.7.3)\n",
            "Requirement already satisfied: psutil<6,>=5.7 in /usr/local/lib/python3.7/dist-packages (from rdt<0.7,>=0.6.2->ctgan) (5.9.1)\n",
            "Requirement already satisfied: pyyaml<6,>=5.4.1 in /usr/local/lib/python3.7/dist-packages (from rdt<0.7,>=0.6.2->ctgan) (5.4.1)\n",
            "Requirement already satisfied: threadpoolctl>=2.0.0 in /usr/local/lib/python3.7/dist-packages (from scikit-learn<2,>=0.24->ctgan) (3.1.0)\n",
            "Requirement already satisfied: joblib>=0.11 in /usr/local/lib/python3.7/dist-packages (from scikit-learn<2,>=0.24->ctgan) (1.1.0)\n",
            "Requirement already satisfied: typing-extensions in /usr/local/lib/python3.7/dist-packages (from torch<2,>=1.8.0->ctgan) (4.2.0)\n",
            "Requirement already satisfied: requests in /usr/local/lib/python3.7/dist-packages (from torchvision<1,>=0.9.0->ctgan) (2.23.0)\n",
            "Requirement already satisfied: pillow!=8.3.*,>=5.3.0 in /usr/local/lib/python3.7/dist-packages (from torchvision<1,>=0.9.0->ctgan) (7.1.2)\n",
            "Requirement already satisfied: idna<3,>=2.5 in /usr/local/lib/python3.7/dist-packages (from requests->torchvision<1,>=0.9.0->ctgan) (2.10)\n",
            "Requirement already satisfied: certifi>=2017.4.17 in /usr/local/lib/python3.7/dist-packages (from requests->torchvision<1,>=0.9.0->ctgan) (2022.5.18.1)\n",
            "Requirement already satisfied: urllib3!=1.25.0,!=1.25.1,<1.26,>=1.21.1 in /usr/local/lib/python3.7/dist-packages (from requests->torchvision<1,>=0.9.0->ctgan) (1.24.3)\n",
            "Requirement already satisfied: chardet<4,>=3.0.2 in /usr/local/lib/python3.7/dist-packages (from requests->torchvision<1,>=0.9.0->ctgan) (3.0.4)\n"
          ]
        }
      ]
    },
    {
      "cell_type": "code",
      "source": [
        "ReducedData = pd.concat([X_data_reduced, Y_data_reduced], axis =1)\n",
        "#ReducedData"
      ],
      "metadata": {
        "id": "KLd7QwDXcHT8"
      },
      "execution_count": 69,
      "outputs": []
    },
    {
      "cell_type": "code",
      "source": [
        "from ctgan import CTGANSynthesizer\n",
        "\n",
        "ctgan = CTGANSynthesizer(verbose=True)\n",
        "ctgan.fit(ReducedData, X_data_reduced, epochs = 300)"
      ],
      "metadata": {
        "colab": {
          "base_uri": "https://localhost:8080/"
        },
        "id": "3g2BtwnUZn-M",
        "outputId": "918b25fa-38c3-483a-a90c-9d223cc447c0"
      },
      "execution_count": 70,
      "outputs": [
        {
          "output_type": "stream",
          "name": "stdout",
          "text": [
            "Epoch 1, Loss G:  0.6520,Loss D:  0.0003\n",
            "Epoch 2, Loss G:  0.6666,Loss D: -0.0527\n"
          ]
        },
        {
          "output_type": "stream",
          "name": "stderr",
          "text": [
            "/usr/local/lib/python3.7/dist-packages/sklearn/mixture/_base.py:146: ConvergenceWarning: Number of distinct clusters (2) found smaller than n_clusters (10). Possibly due to duplicate points in X.\n",
            "  .fit(X)\n",
            "/usr/local/lib/python3.7/dist-packages/ctgan/data_transformer.py:111: SettingWithCopyWarning: \n",
            "A value is trying to be set on a copy of a slice from a DataFrame.\n",
            "Try using .loc[row_indexer,col_indexer] = value instead\n",
            "\n",
            "See the caveats in the documentation: https://pandas.pydata.org/pandas-docs/stable/user_guide/indexing.html#returning-a-view-versus-a-copy\n",
            "  data[column_name] = data[column_name].to_numpy().flatten()\n"
          ]
        },
        {
          "output_type": "stream",
          "name": "stdout",
          "text": [
            "Epoch 3, Loss G:  0.6309,Loss D: -0.0554\n",
            "Epoch 4, Loss G:  0.6224,Loss D: -0.0797\n",
            "Epoch 5, Loss G:  0.5890,Loss D: -0.1588\n",
            "Epoch 6, Loss G:  0.5576,Loss D: -0.1483\n",
            "Epoch 7, Loss G:  0.5490,Loss D: -0.1739\n",
            "Epoch 8, Loss G:  0.4715,Loss D: -0.2348\n",
            "Epoch 9, Loss G:  0.4376,Loss D: -0.2438\n",
            "Epoch 10, Loss G:  0.4047,Loss D: -0.2263\n",
            "Epoch 11, Loss G:  0.3507,Loss D: -0.2427\n",
            "Epoch 12, Loss G:  0.2742,Loss D: -0.3083\n",
            "Epoch 13, Loss G:  0.1658,Loss D: -0.3291\n",
            "Epoch 14, Loss G:  0.1128,Loss D: -0.3167\n",
            "Epoch 15, Loss G:  0.0640,Loss D: -0.1984\n",
            "Epoch 16, Loss G: -0.1146,Loss D: -0.3379\n",
            "Epoch 17, Loss G: -0.2121,Loss D: -0.2849\n",
            "Epoch 18, Loss G: -0.2958,Loss D: -0.2215\n",
            "Epoch 19, Loss G: -0.3204,Loss D: -0.1634\n",
            "Epoch 20, Loss G: -0.5301,Loss D: -0.1521\n",
            "Epoch 21, Loss G: -0.6847,Loss D: -0.0194\n",
            "Epoch 22, Loss G: -0.8132,Loss D: -0.1669\n",
            "Epoch 23, Loss G: -0.8210,Loss D: -0.0284\n",
            "Epoch 24, Loss G: -0.9535,Loss D: -0.0369\n",
            "Epoch 25, Loss G: -0.9425,Loss D:  0.0459\n",
            "Epoch 26, Loss G: -0.9559,Loss D:  0.1232\n",
            "Epoch 27, Loss G: -0.8177,Loss D:  0.1201\n",
            "Epoch 28, Loss G: -1.0621,Loss D:  0.2453\n",
            "Epoch 29, Loss G: -0.9135,Loss D:  0.2677\n",
            "Epoch 30, Loss G: -1.0249,Loss D:  0.2325\n",
            "Epoch 31, Loss G: -1.0094,Loss D:  0.2567\n",
            "Epoch 32, Loss G: -0.9212,Loss D:  0.1808\n",
            "Epoch 33, Loss G: -0.9201,Loss D:  0.1166\n",
            "Epoch 34, Loss G: -0.6977,Loss D:  0.2764\n",
            "Epoch 35, Loss G: -0.8221,Loss D:  0.1403\n",
            "Epoch 36, Loss G: -0.7797,Loss D:  0.1020\n",
            "Epoch 37, Loss G: -0.8805,Loss D:  0.0977\n",
            "Epoch 38, Loss G: -0.9054,Loss D:  0.0485\n",
            "Epoch 39, Loss G: -0.7702,Loss D:  0.2214\n",
            "Epoch 40, Loss G: -0.7915,Loss D:  0.1264\n",
            "Epoch 41, Loss G: -0.8538,Loss D:  0.0824\n",
            "Epoch 42, Loss G: -0.8946,Loss D:  0.1323\n",
            "Epoch 43, Loss G: -0.7080,Loss D:  0.1239\n",
            "Epoch 44, Loss G: -0.8078,Loss D:  0.0464\n",
            "Epoch 45, Loss G: -0.6969,Loss D:  0.1788\n",
            "Epoch 46, Loss G: -0.7442,Loss D:  0.1361\n",
            "Epoch 47, Loss G: -0.7087,Loss D:  0.0748\n",
            "Epoch 48, Loss G: -0.7198,Loss D:  0.1675\n",
            "Epoch 49, Loss G: -0.6942,Loss D:  0.0498\n",
            "Epoch 50, Loss G: -0.8749,Loss D:  0.1727\n",
            "Epoch 51, Loss G: -0.8225,Loss D:  0.1136\n",
            "Epoch 52, Loss G: -0.7490,Loss D:  0.1261\n",
            "Epoch 53, Loss G: -0.7978,Loss D:  0.1580\n",
            "Epoch 54, Loss G: -0.6712,Loss D:  0.1248\n",
            "Epoch 55, Loss G: -0.6460,Loss D:  0.1419\n",
            "Epoch 56, Loss G: -0.6739,Loss D: -0.0669\n",
            "Epoch 57, Loss G: -0.7441,Loss D:  0.0211\n",
            "Epoch 58, Loss G: -0.7727,Loss D:  0.1046\n",
            "Epoch 59, Loss G: -0.7848,Loss D:  0.0400\n",
            "Epoch 60, Loss G: -0.8653,Loss D:  0.0212\n",
            "Epoch 61, Loss G: -0.8005,Loss D:  0.0152\n",
            "Epoch 62, Loss G: -0.8636,Loss D: -0.1225\n",
            "Epoch 63, Loss G: -0.8764,Loss D:  0.1120\n",
            "Epoch 64, Loss G: -0.7611,Loss D:  0.0715\n",
            "Epoch 65, Loss G: -0.7473,Loss D:  0.1409\n",
            "Epoch 66, Loss G: -0.7682,Loss D:  0.1863\n",
            "Epoch 67, Loss G: -0.8472,Loss D:  0.1055\n",
            "Epoch 68, Loss G: -0.6868,Loss D:  0.1416\n",
            "Epoch 69, Loss G: -0.7524,Loss D:  0.0352\n",
            "Epoch 70, Loss G: -0.7992,Loss D:  0.0311\n",
            "Epoch 71, Loss G: -0.6760,Loss D:  0.1865\n",
            "Epoch 72, Loss G: -0.6479,Loss D:  0.0727\n",
            "Epoch 73, Loss G: -0.7098,Loss D:  0.0985\n",
            "Epoch 74, Loss G: -0.6253,Loss D:  0.1388\n",
            "Epoch 75, Loss G: -0.5142,Loss D: -0.0251\n",
            "Epoch 76, Loss G: -0.6536,Loss D:  0.0193\n",
            "Epoch 77, Loss G: -0.6513,Loss D: -0.0481\n",
            "Epoch 78, Loss G: -0.6222,Loss D: -0.0460\n",
            "Epoch 79, Loss G: -0.4411,Loss D:  0.0375\n",
            "Epoch 80, Loss G: -0.5135,Loss D:  0.0784\n",
            "Epoch 81, Loss G: -0.5088,Loss D: -0.0729\n",
            "Epoch 82, Loss G: -0.5453,Loss D: -0.0584\n",
            "Epoch 83, Loss G: -0.5858,Loss D: -0.0789\n",
            "Epoch 84, Loss G: -0.4149,Loss D: -0.0974\n",
            "Epoch 85, Loss G: -0.4844,Loss D: -0.0174\n",
            "Epoch 86, Loss G: -0.4604,Loss D: -0.0241\n",
            "Epoch 87, Loss G: -0.6781,Loss D:  0.0892\n",
            "Epoch 88, Loss G: -0.5333,Loss D: -0.0043\n",
            "Epoch 89, Loss G: -0.5460,Loss D:  0.0123\n",
            "Epoch 90, Loss G: -0.6799,Loss D:  0.0071\n",
            "Epoch 91, Loss G: -0.6143,Loss D:  0.0057\n",
            "Epoch 92, Loss G: -0.5564,Loss D:  0.1347\n",
            "Epoch 93, Loss G: -0.5178,Loss D: -0.0145\n",
            "Epoch 94, Loss G: -0.4835,Loss D: -0.0025\n",
            "Epoch 95, Loss G: -0.5649,Loss D: -0.0112\n",
            "Epoch 96, Loss G: -0.5821,Loss D: -0.0439\n",
            "Epoch 97, Loss G: -0.4706,Loss D:  0.0499\n",
            "Epoch 98, Loss G: -0.5863,Loss D: -0.0053\n",
            "Epoch 99, Loss G: -0.5177,Loss D:  0.2117\n",
            "Epoch 100, Loss G: -0.3866,Loss D:  0.0773\n",
            "Epoch 101, Loss G: -0.5555,Loss D:  0.0804\n",
            "Epoch 102, Loss G: -0.3877,Loss D:  0.0884\n",
            "Epoch 103, Loss G: -0.3911,Loss D: -0.1142\n",
            "Epoch 104, Loss G: -0.4010,Loss D: -0.0457\n",
            "Epoch 105, Loss G: -0.4173,Loss D: -0.0616\n",
            "Epoch 106, Loss G: -0.4837,Loss D: -0.0605\n",
            "Epoch 107, Loss G: -0.4405,Loss D: -0.1290\n",
            "Epoch 108, Loss G: -0.3027,Loss D: -0.1322\n",
            "Epoch 109, Loss G: -0.5597,Loss D: -0.0301\n",
            "Epoch 110, Loss G: -0.4762,Loss D: -0.1916\n",
            "Epoch 111, Loss G: -0.6017,Loss D: -0.0855\n",
            "Epoch 112, Loss G: -0.5840,Loss D:  0.0283\n",
            "Epoch 113, Loss G: -0.5425,Loss D:  0.0119\n",
            "Epoch 114, Loss G: -0.5946,Loss D:  0.0726\n",
            "Epoch 115, Loss G: -0.6058,Loss D:  0.0252\n",
            "Epoch 116, Loss G: -0.5129,Loss D: -0.0053\n",
            "Epoch 117, Loss G: -0.4484,Loss D:  0.1272\n",
            "Epoch 118, Loss G: -0.6125,Loss D:  0.0238\n",
            "Epoch 119, Loss G: -0.5510,Loss D: -0.0940\n",
            "Epoch 120, Loss G: -0.6705,Loss D:  0.0740\n",
            "Epoch 121, Loss G: -0.5417,Loss D: -0.1303\n",
            "Epoch 122, Loss G: -0.5784,Loss D:  0.0459\n",
            "Epoch 123, Loss G: -0.6002,Loss D:  0.0006\n",
            "Epoch 124, Loss G: -0.5440,Loss D: -0.1067\n",
            "Epoch 125, Loss G: -0.5199,Loss D:  0.0629\n",
            "Epoch 126, Loss G: -0.6125,Loss D:  0.0083\n",
            "Epoch 127, Loss G: -0.5758,Loss D: -0.0342\n",
            "Epoch 128, Loss G: -0.5357,Loss D:  0.0444\n",
            "Epoch 129, Loss G: -0.5850,Loss D: -0.0730\n",
            "Epoch 130, Loss G: -0.5671,Loss D: -0.0099\n",
            "Epoch 131, Loss G: -0.6403,Loss D:  0.0521\n",
            "Epoch 132, Loss G: -0.5599,Loss D: -0.0019\n",
            "Epoch 133, Loss G: -0.5219,Loss D: -0.1331\n",
            "Epoch 134, Loss G: -0.6276,Loss D: -0.0964\n",
            "Epoch 135, Loss G: -0.6462,Loss D: -0.0278\n",
            "Epoch 136, Loss G: -0.4602,Loss D: -0.1317\n",
            "Epoch 137, Loss G: -0.5961,Loss D: -0.1209\n",
            "Epoch 138, Loss G: -0.5602,Loss D: -0.0460\n",
            "Epoch 139, Loss G: -0.5122,Loss D:  0.0798\n",
            "Epoch 140, Loss G: -0.5438,Loss D: -0.0547\n",
            "Epoch 141, Loss G: -0.5852,Loss D: -0.0628\n",
            "Epoch 142, Loss G: -0.4826,Loss D: -0.1246\n",
            "Epoch 143, Loss G: -0.5964,Loss D: -0.0732\n",
            "Epoch 144, Loss G: -0.5864,Loss D:  0.0158\n",
            "Epoch 145, Loss G: -0.5954,Loss D: -0.0080\n",
            "Epoch 146, Loss G: -0.5646,Loss D:  0.0723\n",
            "Epoch 147, Loss G: -0.6154,Loss D:  0.1178\n",
            "Epoch 148, Loss G: -0.5662,Loss D:  0.0834\n",
            "Epoch 149, Loss G: -0.6352,Loss D:  0.0582\n",
            "Epoch 150, Loss G: -0.4964,Loss D:  0.0418\n",
            "Epoch 151, Loss G: -0.6275,Loss D:  0.1061\n",
            "Epoch 152, Loss G: -0.6192,Loss D:  0.1166\n",
            "Epoch 153, Loss G: -0.5291,Loss D: -0.0822\n",
            "Epoch 154, Loss G: -0.5789,Loss D: -0.0442\n",
            "Epoch 155, Loss G: -0.6362,Loss D: -0.0094\n",
            "Epoch 156, Loss G: -0.5703,Loss D: -0.0832\n",
            "Epoch 157, Loss G: -0.6403,Loss D:  0.0347\n",
            "Epoch 158, Loss G: -0.6324,Loss D: -0.1448\n",
            "Epoch 159, Loss G: -0.6606,Loss D: -0.1576\n",
            "Epoch 160, Loss G: -0.7512,Loss D: -0.1402\n",
            "Epoch 161, Loss G: -0.5761,Loss D: -0.0274\n",
            "Epoch 162, Loss G: -0.6497,Loss D: -0.0768\n",
            "Epoch 163, Loss G: -0.6167,Loss D: -0.1371\n",
            "Epoch 164, Loss G: -0.5795,Loss D: -0.2447\n",
            "Epoch 165, Loss G: -0.6393,Loss D: -0.0955\n",
            "Epoch 166, Loss G: -0.6406,Loss D:  0.0119\n",
            "Epoch 167, Loss G: -0.6516,Loss D: -0.2246\n",
            "Epoch 168, Loss G: -0.6670,Loss D:  0.0159\n",
            "Epoch 169, Loss G: -0.6797,Loss D:  0.0058\n",
            "Epoch 170, Loss G: -0.7252,Loss D: -0.1063\n",
            "Epoch 171, Loss G: -0.7296,Loss D:  0.0758\n",
            "Epoch 172, Loss G: -0.7241,Loss D: -0.0745\n",
            "Epoch 173, Loss G: -0.7259,Loss D: -0.0505\n",
            "Epoch 174, Loss G: -0.8141,Loss D: -0.0087\n",
            "Epoch 175, Loss G: -0.5840,Loss D: -0.0082\n",
            "Epoch 176, Loss G: -0.6212,Loss D:  0.0777\n",
            "Epoch 177, Loss G: -0.7312,Loss D: -0.1447\n",
            "Epoch 178, Loss G: -0.6630,Loss D: -0.0356\n",
            "Epoch 179, Loss G: -0.8323,Loss D:  0.0595\n",
            "Epoch 180, Loss G: -0.6738,Loss D:  0.2216\n",
            "Epoch 181, Loss G: -0.6544,Loss D: -0.1310\n",
            "Epoch 182, Loss G: -0.6327,Loss D:  0.0415\n",
            "Epoch 183, Loss G: -0.6478,Loss D: -0.1190\n",
            "Epoch 184, Loss G: -0.7060,Loss D: -0.0091\n",
            "Epoch 185, Loss G: -0.6682,Loss D: -0.1101\n",
            "Epoch 186, Loss G: -0.6972,Loss D: -0.1146\n",
            "Epoch 187, Loss G: -0.7194,Loss D: -0.0039\n",
            "Epoch 188, Loss G: -0.7152,Loss D:  0.1869\n",
            "Epoch 189, Loss G: -0.7027,Loss D:  0.0693\n",
            "Epoch 190, Loss G: -0.7071,Loss D: -0.0206\n",
            "Epoch 191, Loss G: -0.6006,Loss D: -0.0410\n",
            "Epoch 192, Loss G: -0.6680,Loss D: -0.1432\n",
            "Epoch 193, Loss G: -0.6091,Loss D: -0.0527\n",
            "Epoch 194, Loss G: -0.5927,Loss D: -0.0966\n",
            "Epoch 195, Loss G: -0.6208,Loss D: -0.1016\n",
            "Epoch 196, Loss G: -0.7344,Loss D: -0.1598\n",
            "Epoch 197, Loss G: -0.6399,Loss D: -0.0810\n",
            "Epoch 198, Loss G: -0.6618,Loss D: -0.1007\n",
            "Epoch 199, Loss G: -0.7312,Loss D: -0.1651\n",
            "Epoch 200, Loss G: -0.6941,Loss D: -0.1409\n",
            "Epoch 201, Loss G: -0.6172,Loss D: -0.1713\n",
            "Epoch 202, Loss G: -0.7136,Loss D: -0.0339\n",
            "Epoch 203, Loss G: -0.6989,Loss D: -0.0673\n",
            "Epoch 204, Loss G: -0.6962,Loss D: -0.1692\n",
            "Epoch 205, Loss G: -0.7399,Loss D: -0.0981\n",
            "Epoch 206, Loss G: -0.6385,Loss D: -0.0713\n",
            "Epoch 207, Loss G: -0.7401,Loss D: -0.0293\n",
            "Epoch 208, Loss G: -0.8923,Loss D:  0.0616\n",
            "Epoch 209, Loss G: -0.7743,Loss D: -0.0071\n",
            "Epoch 210, Loss G: -0.8155,Loss D: -0.0286\n",
            "Epoch 211, Loss G: -0.6735,Loss D:  0.0678\n",
            "Epoch 212, Loss G: -0.8456,Loss D: -0.0086\n",
            "Epoch 213, Loss G: -0.7500,Loss D: -0.0526\n",
            "Epoch 214, Loss G: -0.8886,Loss D: -0.0542\n",
            "Epoch 215, Loss G: -0.7644,Loss D: -0.0095\n",
            "Epoch 216, Loss G: -0.8886,Loss D:  0.0873\n",
            "Epoch 217, Loss G: -0.6699,Loss D: -0.0498\n",
            "Epoch 218, Loss G: -0.8322,Loss D: -0.0983\n",
            "Epoch 219, Loss G: -0.7794,Loss D: -0.0441\n",
            "Epoch 220, Loss G: -0.8324,Loss D: -0.1192\n",
            "Epoch 221, Loss G: -0.9027,Loss D: -0.0526\n",
            "Epoch 222, Loss G: -0.9731,Loss D: -0.0609\n",
            "Epoch 223, Loss G: -0.8711,Loss D: -0.0496\n",
            "Epoch 224, Loss G: -0.7752,Loss D: -0.0974\n",
            "Epoch 225, Loss G: -0.9212,Loss D: -0.0607\n",
            "Epoch 226, Loss G: -0.7630,Loss D:  0.0327\n",
            "Epoch 227, Loss G: -0.8879,Loss D: -0.0991\n",
            "Epoch 228, Loss G: -0.8020,Loss D: -0.0536\n",
            "Epoch 229, Loss G: -0.9148,Loss D: -0.1118\n",
            "Epoch 230, Loss G: -0.8356,Loss D: -0.1880\n",
            "Epoch 231, Loss G: -0.9112,Loss D: -0.2434\n",
            "Epoch 232, Loss G: -0.7347,Loss D: -0.1396\n",
            "Epoch 233, Loss G: -0.9675,Loss D: -0.0681\n",
            "Epoch 234, Loss G: -0.8318,Loss D:  0.0219\n",
            "Epoch 235, Loss G: -0.8370,Loss D: -0.0556\n",
            "Epoch 236, Loss G: -0.8947,Loss D: -0.1322\n",
            "Epoch 237, Loss G: -0.9107,Loss D: -0.2292\n",
            "Epoch 238, Loss G: -0.9307,Loss D: -0.0334\n",
            "Epoch 239, Loss G: -0.9147,Loss D: -0.2615\n",
            "Epoch 240, Loss G: -0.9423,Loss D:  0.1513\n",
            "Epoch 241, Loss G: -0.9790,Loss D:  0.0124\n",
            "Epoch 242, Loss G: -0.8670,Loss D: -0.2167\n",
            "Epoch 243, Loss G: -0.8873,Loss D: -0.0386\n",
            "Epoch 244, Loss G: -0.8433,Loss D: -0.0400\n",
            "Epoch 245, Loss G: -0.9011,Loss D: -0.0737\n",
            "Epoch 246, Loss G: -1.0494,Loss D: -0.0747\n",
            "Epoch 247, Loss G: -0.8860,Loss D: -0.0706\n",
            "Epoch 248, Loss G: -1.0682,Loss D: -0.0792\n",
            "Epoch 249, Loss G: -0.9383,Loss D:  0.0166\n",
            "Epoch 250, Loss G: -0.9620,Loss D: -0.1300\n",
            "Epoch 251, Loss G: -1.0060,Loss D:  0.0287\n",
            "Epoch 252, Loss G: -0.8619,Loss D: -0.1287\n",
            "Epoch 253, Loss G: -0.9190,Loss D: -0.2057\n",
            "Epoch 254, Loss G: -0.8328,Loss D: -0.1340\n",
            "Epoch 255, Loss G: -0.8012,Loss D: -0.0870\n",
            "Epoch 256, Loss G: -0.9047,Loss D: -0.2000\n",
            "Epoch 257, Loss G: -0.7810,Loss D:  0.0570\n",
            "Epoch 258, Loss G: -0.9304,Loss D: -0.0761\n",
            "Epoch 259, Loss G: -0.8547,Loss D: -0.1456\n",
            "Epoch 260, Loss G: -0.8397,Loss D: -0.2840\n",
            "Epoch 261, Loss G: -0.9068,Loss D: -0.1558\n",
            "Epoch 262, Loss G: -0.7244,Loss D:  0.0099\n",
            "Epoch 263, Loss G: -0.8612,Loss D: -0.2272\n",
            "Epoch 264, Loss G: -0.6911,Loss D:  0.0357\n",
            "Epoch 265, Loss G: -0.7549,Loss D: -0.0496\n",
            "Epoch 266, Loss G: -0.7615,Loss D:  0.0079\n",
            "Epoch 267, Loss G: -0.6686,Loss D:  0.0028\n",
            "Epoch 268, Loss G: -0.7201,Loss D: -0.0124\n",
            "Epoch 269, Loss G: -0.7297,Loss D: -0.1189\n",
            "Epoch 270, Loss G: -0.6541,Loss D:  0.0342\n",
            "Epoch 271, Loss G: -0.7051,Loss D:  0.0315\n",
            "Epoch 272, Loss G: -0.6716,Loss D: -0.1517\n",
            "Epoch 273, Loss G: -0.6230,Loss D: -0.1037\n",
            "Epoch 274, Loss G: -0.6722,Loss D:  0.0212\n",
            "Epoch 275, Loss G: -0.6363,Loss D: -0.3193\n",
            "Epoch 276, Loss G: -0.8310,Loss D: -0.1978\n",
            "Epoch 277, Loss G: -0.6438,Loss D:  0.0092\n",
            "Epoch 278, Loss G: -0.6311,Loss D: -0.0883\n",
            "Epoch 279, Loss G: -0.7388,Loss D: -0.1185\n",
            "Epoch 280, Loss G: -0.7186,Loss D: -0.2120\n",
            "Epoch 281, Loss G: -0.7382,Loss D: -0.2034\n",
            "Epoch 282, Loss G: -0.7918,Loss D: -0.2199\n",
            "Epoch 283, Loss G: -0.8672,Loss D:  0.0073\n",
            "Epoch 284, Loss G: -0.7496,Loss D: -0.1124\n",
            "Epoch 285, Loss G: -0.7835,Loss D: -0.3225\n",
            "Epoch 286, Loss G: -0.7172,Loss D: -0.1958\n",
            "Epoch 287, Loss G: -0.5843,Loss D: -0.0261\n",
            "Epoch 288, Loss G: -0.6637,Loss D: -0.2281\n",
            "Epoch 289, Loss G: -0.7233,Loss D: -0.0135\n",
            "Epoch 290, Loss G: -0.5765,Loss D: -0.0467\n",
            "Epoch 291, Loss G: -0.8154,Loss D: -0.0963\n",
            "Epoch 292, Loss G: -0.6221,Loss D: -0.0787\n",
            "Epoch 293, Loss G: -0.4978,Loss D: -0.0094\n",
            "Epoch 294, Loss G: -0.7863,Loss D: -0.0385\n",
            "Epoch 295, Loss G: -0.7268,Loss D: -0.0958\n",
            "Epoch 296, Loss G: -0.6792,Loss D: -0.0352\n",
            "Epoch 297, Loss G: -0.8178,Loss D: -0.0432\n",
            "Epoch 298, Loss G: -0.7992,Loss D: -0.0189\n",
            "Epoch 299, Loss G: -0.7346,Loss D: -0.0123\n",
            "Epoch 300, Loss G: -0.7339,Loss D:  0.1413\n"
          ]
        }
      ]
    },
    {
      "cell_type": "code",
      "source": [
        "sampled_data = ctgan.sample(1000)\n",
        "\n",
        "#print(sampled_data.head())"
      ],
      "metadata": {
        "id": "Le2NAR9seuj0"
      },
      "execution_count": 71,
      "outputs": []
    },
    {
      "cell_type": "code",
      "source": [
        "sampled_data.shape"
      ],
      "metadata": {
        "colab": {
          "base_uri": "https://localhost:8080/"
        },
        "id": "KfQG5SMCfyv-",
        "outputId": "454aa66f-5ead-4945-a5e8-557d541ad037"
      },
      "execution_count": 72,
      "outputs": [
        {
          "output_type": "execute_result",
          "data": {
            "text/plain": [
              "(1000, 24)"
            ]
          },
          "metadata": {},
          "execution_count": 72
        }
      ]
    },
    {
      "cell_type": "code",
      "source": [
        "X_sampled_data = sampled_data.drop(['address'],axis =1)\n",
        "X_sampled_data.shape\n",
        "\n",
        "Y_sampled_data = sampled_data['address']\n",
        "Y_sampled_data.shape"
      ],
      "metadata": {
        "colab": {
          "base_uri": "https://localhost:8080/"
        },
        "id": "PwpPlaIYhAQR",
        "outputId": "85cc81fe-9359-4038-ba07-2f6a8d2a9178"
      },
      "execution_count": 73,
      "outputs": [
        {
          "output_type": "execute_result",
          "data": {
            "text/plain": [
              "(1000,)"
            ]
          },
          "metadata": {},
          "execution_count": 73
        }
      ]
    },
    {
      "cell_type": "code",
      "source": [
        "x_train, x_test, y_train, y_test = train_test_split(X_sampled_data, Y_sampled_data, test_size = 0.30)\n",
        "\n",
        "from sklearn.ensemble import RandomForestClassifier\n",
        "\n",
        "# creating a RF classifier\n",
        "clf = RandomForestClassifier(n_estimators = 100) \n",
        " \n",
        "# Training the model on the training dataset\n",
        "# fit function is used to train the model using the training sets as parameters\n",
        "clf.fit(x_train, y_train)\n",
        " \n",
        "# performing predictions on the test dataset\n",
        "y_pred = clf.predict(x_test)\n",
        " \n",
        "# metrics are used to find accuracy or error\n",
        "from sklearn import metrics \n",
        "print()\n",
        " \n",
        "# using metrics module for accuracy calculation\n",
        "print(\"ACCURACY OF THE SAMPLED MODEL: \", metrics.accuracy_score(y_test, y_pred))"
      ],
      "metadata": {
        "colab": {
          "base_uri": "https://localhost:8080/"
        },
        "id": "9GJaF1HfgsR4",
        "outputId": "be1f53e1-4858-4236-a0ea-a10fbd7cbfef"
      },
      "execution_count": 74,
      "outputs": [
        {
          "output_type": "stream",
          "name": "stdout",
          "text": [
            "\n",
            "ACCURACY OF THE SAMPLED MODEL:  0.9433333333333334\n"
          ]
        }
      ]
    },
    {
      "cell_type": "markdown",
      "source": [
        "### Checking performance of model"
      ],
      "metadata": {
        "id": "GZBXp3OwvUWs"
      }
    },
    {
      "cell_type": "code",
      "source": [
        "from sklearn.model_selection import KFold\n",
        "from sklearn.model_selection import cross_val_score\n",
        "from numpy import mean\n",
        "from numpy import std\n",
        "\n",
        "cv = KFold(n_splits=10, random_state=1, shuffle=True)\n",
        "# create model\n",
        "model = RandomForestClassifier(n_estimators =100)\n",
        "# evaluate model\n",
        "scores = cross_val_score(model, X_data, Y_data, scoring='accuracy', cv=cv, n_jobs=-1)\n",
        "# report performance\n",
        "print('Original Data')\n",
        "print('Accuracy: %.3f (%.3f)' % (mean(scores), std(scores)))"
      ],
      "metadata": {
        "colab": {
          "base_uri": "https://localhost:8080/"
        },
        "id": "ASU-vqM1xjl3",
        "outputId": "39276df8-2c29-417e-c615-547e7257987b"
      },
      "execution_count": 75,
      "outputs": [
        {
          "output_type": "stream",
          "name": "stdout",
          "text": [
            "Original Data\n",
            "Accuracy: 0.742 (0.087)\n"
          ]
        }
      ]
    },
    {
      "cell_type": "code",
      "source": [
        "\n",
        "\n",
        "cv = KFold(n_splits=10, random_state=1, shuffle=True)\n",
        "# create model\n",
        "model = RandomForestClassifier(n_estimators =100)\n",
        "# evaluate model\n",
        "scores = cross_val_score(model, X_data_reduced, Y_data_reduced, scoring='accuracy', cv=cv, n_jobs=-1)\n",
        "# report performance\n",
        "print('Extremely small sized Data')\n",
        "print('Accuracy: %.3f (%.3f)' % (mean(scores), std(scores)))"
      ],
      "metadata": {
        "colab": {
          "base_uri": "https://localhost:8080/"
        },
        "id": "ePmgavxgvYMA",
        "outputId": "c810df6b-434e-43be-92b8-95305a2c868d"
      },
      "execution_count": 76,
      "outputs": [
        {
          "output_type": "stream",
          "name": "stdout",
          "text": [
            "Extremely small sized Data\n",
            "Accuracy: 0.900 (0.153)\n"
          ]
        }
      ]
    },
    {
      "cell_type": "code",
      "source": [
        "\n",
        "\n",
        "cv = KFold(n_splits=10, random_state=1, shuffle=True)\n",
        "# create model\n",
        "model = RandomForestClassifier(n_estimators =100)\n",
        "# evaluate model\n",
        "scores = cross_val_score(model, X_sampled_data, Y_sampled_data, scoring='accuracy', cv=cv, n_jobs=-1)\n",
        "# report performance\n",
        "print('Sampled/generated Data')\n",
        "print('Accuracy: %.3f (%.3f)' % (mean(scores), std(scores)))"
      ],
      "metadata": {
        "colab": {
          "base_uri": "https://localhost:8080/"
        },
        "id": "Qdf82YjNhp3f",
        "outputId": "c0756986-43a9-4cc9-ffbf-9167a67b3500"
      },
      "execution_count": 77,
      "outputs": [
        {
          "output_type": "stream",
          "name": "stdout",
          "text": [
            "Sampled/generated Data\n",
            "Accuracy: 0.933 (0.026)\n"
          ]
        }
      ]
    },
    {
      "cell_type": "code",
      "source": [
        ""
      ],
      "metadata": {
        "id": "oWT1qsQjxFO-"
      },
      "execution_count": 77,
      "outputs": []
    }
  ]
}